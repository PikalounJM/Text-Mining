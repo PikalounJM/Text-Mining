※Sensitive information has been excluded.


{
 "cells": [
  {
   "cell_type": "code",
   "execution_count": 1,
   "id": "6f580a0c-0b6c-4fd6-95b8-4c1c76a7c5d0",
   "metadata": {},
   "outputs": [],
   "source": [
    "import pandas as pd\n",
    "import numpy as np\n",
    "import matplotlib.pyplot as plt\n",
    "import seaborn as sns\n",
    "import warnings\n",
    "warnings.filterwarnings(action='ignore')\n",
    "import openpyxl\n",
    "from nltk.corpus import stopwords\n",
    "import nltk #자연어 처리 및 문서 분석용 패키지\n",
    "import re #정규표현식 라이브러리(프로그래밍에서 문자열을 다룰때 문자열의 일정한 패턴을 표현하는 일종의 형식 언어)\n",
    "\n",
    "voc = pd.read_csv('voc1.csv', encoding='cp949')"
   ]
  },
  {
   "cell_type": "code",
   "execution_count": 2,
   "id": "26688005-4d87-4b0c-9168-4250d85ba168",
   "metadata": {},
   "outputs": [
    {
     "name": "stdout",
     "output_type": "stream",
     "text": [
      "<class 'pandas.core.frame.DataFrame'>\n",
      "RangeIndex: 137302 entries, 0 to 137301\n",
      "Data columns (total 28 columns):\n",
      " #   Column               Non-Null Count   Dtype \n",
      "---  ------               --------------   ----- \n",
      " 0   유효데이터                136115 non-null  object\n",
      " 1   원건수                  115754 non-null  object\n",
      " 2   년                    137302 non-null  int64 \n",
      " 3   월                    137302 non-null  int64 \n",
      " 4   일                    137302 non-null  int64 \n",
      " 5   사업단위                 137302 non-null  object\n",
      " 6   사업장                  137302 non-null  object\n",
      " 7   사업장 세부               137302 non-null  object\n",
      " 8   접수채널                 137301 non-null  object\n",
      " 9   성격                   137302 non-null  object\n",
      " 10  불만성                  137302 non-null  object\n",
      " 11  대분류                  134883 non-null  object\n",
      " 12  유형분류                 135222 non-null  object\n",
      " 13  키워드                  53186 non-null   object\n",
      " 14  적용여부                 127092 non-null  object\n",
      " 15  요약                   77779 non-null   object\n",
      " 16  내용                   137295 non-null  object\n",
      " 17  감동정도\n",
      "1(상), 2(중),3()  87099 non-null   object\n",
      " 18  직원명                  71536 non-null   object\n",
      " 19  VOC ID               136641 non-null  object\n",
      " 20  사후처리 VOC 결재내용        16123 non-null   object\n",
      " 21  처리자의견                65739 non-null   object\n",
      " 22  답변내용                 63172 non-null   object\n",
      " 23  제목                   23709 non-null   object\n",
      " 24  Unnamed: 24          364 non-null     object\n",
      " 25  Unnamed: 25          342 non-null     object\n",
      " 26  Unnamed: 26          342 non-null     object\n",
      " 27  Unnamed: 27          342 non-null     object\n",
      "dtypes: int64(3), object(25)\n",
      "memory usage: 29.3+ MB\n"
     ]
    }
   ],
   "source": [
    "voc.info()"
   ]
  },
  {
   "cell_type": "code",
   "execution_count": 3,
   "id": "09e76d38-f09f-4ca0-9bc8-0e65e78bbea2",
   "metadata": {},
   "outputs": [],
   "source": [
    "not_null = pd.DataFrame(voc[['년','접수채널']].value_counts()).reset_index()\n",
    "not_null = not_null.pivot_table(index=['접수채널'], columns='년', values='count', fill_value=0).reset_index()"
   ]
  },
  {
   "cell_type": "code",
   "execution_count": 32,
   "id": "e9778981-d53d-4947-bc14-f7da3a8205fc",
   "metadata": {},
   "outputs": [
    {
     "data": {
      "text/plain": [
       "0"
      ]
     },
     "execution_count": 32,
     "metadata": {},
     "output_type": "execute_result"
    }
   ],
   "source": [
    "voc['내용'].duplicated().sum()"
   ]
  },
  {
   "cell_type": "code",
   "execution_count": 14,
   "id": "da2d93fc-3dab-4ee6-9b85-b3ab655b6aca",
   "metadata": {},
   "outputs": [
    {
     "data": {
      "text/plain": [
       "24231"
      ]
     },
     "execution_count": 14,
     "metadata": {},
     "output_type": "execute_result"
    }
   ],
   "source": [
    "voc['내용'].duplicated().sum() #중복되는 행 갯수"
   ]
  },
  {
   "cell_type": "code",
   "execution_count": 4,
   "id": "e7e4eb6a-571f-4b07-8c90-9a637c1282ce",
   "metadata": {},
   "outputs": [],
   "source": [
    "voc = voc.drop_duplicates(subset='내용')"
   ]
  },
  {
   "cell_type": "code",
   "execution_count": 5,
   "id": "cab142bb-31a8-402a-ad7c-59ebc4eddbdf",
   "metadata": {},
   "outputs": [],
   "source": [
    "#voc['내용'].duplicated().sum() #중복되는 행 갯수\n",
    "isnull = pd.DataFrame(voc[['년','접수채널']].value_counts()).reset_index()\n",
    "isnull = isnull.pivot_table(index=['접수채널'], columns='년', values='count', fill_value=0).reset_index()"
   ]
  },
  {
   "cell_type": "code",
   "execution_count": 6,
   "id": "6caa719b-8c57-4209-8ae9-18481528dccf",
   "metadata": {},
   "outputs": [],
   "source": [
    "voc = voc.drop(columns = ['Unnamed: 24','Unnamed: 25','Unnamed: 26','Unnamed: 27','감동정도\\n1(상), 2(중),3()','유효데이터','원건수','직원명','처리자의견','적용여부','VOC ID','답변내용','사후처리 VOC 결재내용','요약','제목'])\n",
    "voc = voc.dropna(subset=['내용'])\n",
    "voc['성격'] = voc['성격'].replace('불만성','불만') #'불만성' 데이터를 '불만'으로 변경\n",
    "\n",
    "replace_dict = {'동부산':'오시리아',\n",
    "                '더 플라자':'더플라자',\n",
    "                ' 더플라자':'더플라자',\n",
    "                '예약':'본사'}\n",
    "\n",
    "voc['사업장'] = voc['사업장'].replace(replace_dict, regex=True)"
   ]
  },
  {
   "cell_type": "code",
   "execution_count": 9,
   "id": "8bdf62b2-18a2-462d-86bb-d325b71e2b68",
   "metadata": {},
   "outputs": [
    {
     "data": {
      "text/plain": [
       "년\n",
       "2019     4753\n",
       "2020     4377\n",
       "2021    30868\n",
       "2022    60124\n",
       "2023     5616\n",
       "Name: count, dtype: int64"
      ]
     },
     "execution_count": 9,
     "metadata": {},
     "output_type": "execute_result"
    }
   ],
   "source": [
    "voc['년'].value_counts().sort_index()"
   ]
  },
  {
   "cell_type": "code",
   "execution_count": 10,
   "id": "48b2d1e6-a346-4ea6-98aa-e1532713a46d",
   "metadata": {},
   "outputs": [],
   "source": [
    "resort = voc[voc['사업단위'].isin(['레저(콘도)','운영(콘도)'])]\n",
    "resort = resort.drop(['불만성','키워드'], axis=1)"
   ]
  },
  {
   "cell_type": "code",
   "execution_count": 11,
   "id": "cb419c7c-f6fa-4666-9a5b-3ec205c29a00",
   "metadata": {},
   "outputs": [
    {
     "data": {
      "text/plain": [
       "성격\n",
       "불만    33686\n",
       "칭찬    23426\n",
       "제안    22105\n",
       "문의     3603\n",
       "요청     3314\n",
       "Name: count, dtype: int64"
      ]
     },
     "execution_count": 11,
     "metadata": {},
     "output_type": "execute_result"
    }
   ],
   "source": [
    "#condo[condo['성격']=='기타'][['성격','내용']]\n",
    "#위에서부터 변경할 값을 list화 하기\n",
    "list = ['문의','요청','요청','제안','칭찬','요청','불만','요청','문의','불만','제안','칭찬','요청','요청','불만']\n",
    "\n",
    "#'성격'열의 '기타'값을 순서대로 변경, loc[인덱스값, 열값]=list -> list의 값을 순서대로 loc 행 안에 넣는다.\n",
    "resort.loc[resort['성격'] == '기타', '성격'] = list\n",
    "resort['성격'].value_counts()"
   ]
  },
  {
   "cell_type": "code",
   "execution_count": 71,
   "id": "4e56683f-0ce6-4d07-b788-ecbc6eece73d",
   "metadata": {},
   "outputs": [
    {
     "data": {
      "text/plain": [
       "년\n",
       "2019     2755\n",
       "2020     2816\n",
       "2021    26230\n",
       "2022    51362\n",
       "2023     2971\n",
       "Name: count, dtype: int64"
      ]
     },
     "execution_count": 71,
     "metadata": {},
     "output_type": "execute_result"
    }
   ],
   "source": [
    "resort['년'].value_counts().sort_index()"
   ]
  },
  {
   "cell_type": "code",
   "execution_count": 12,
   "id": "1080de1f-68aa-43c9-950b-509c9ae2f212",
   "metadata": {},
   "outputs": [
    {
     "data": {
      "text/html": [
       "<div>\n",
       "<style scoped>\n",
       "    .dataframe tbody tr th:only-of-type {\n",
       "        vertical-align: middle;\n",
       "    }\n",
       "\n",
       "    .dataframe tbody tr th {\n",
       "        vertical-align: top;\n",
       "    }\n",
       "\n",
       "    .dataframe thead th {\n",
       "        text-align: right;\n",
       "    }\n",
       "</style>\n",
       "<table border=\"1\" class=\"dataframe\">\n",
       "  <thead>\n",
       "    <tr style=\"text-align: right;\">\n",
       "      <th>성격</th>\n",
       "      <th>년</th>\n",
       "      <th>문의</th>\n",
       "      <th>불만</th>\n",
       "      <th>요청</th>\n",
       "      <th>제안</th>\n",
       "      <th>칭찬</th>\n",
       "    </tr>\n",
       "  </thead>\n",
       "  <tbody>\n",
       "    <tr>\n",
       "      <th>0</th>\n",
       "      <td>2019</td>\n",
       "      <td>408</td>\n",
       "      <td>678</td>\n",
       "      <td>245</td>\n",
       "      <td>304</td>\n",
       "      <td>1120</td>\n",
       "    </tr>\n",
       "    <tr>\n",
       "      <th>1</th>\n",
       "      <td>2020</td>\n",
       "      <td>462</td>\n",
       "      <td>529</td>\n",
       "      <td>208</td>\n",
       "      <td>187</td>\n",
       "      <td>1430</td>\n",
       "    </tr>\n",
       "    <tr>\n",
       "      <th>2</th>\n",
       "      <td>2021</td>\n",
       "      <td>762</td>\n",
       "      <td>10664</td>\n",
       "      <td>1243</td>\n",
       "      <td>7404</td>\n",
       "      <td>6157</td>\n",
       "    </tr>\n",
       "    <tr>\n",
       "      <th>3</th>\n",
       "      <td>2022</td>\n",
       "      <td>839</td>\n",
       "      <td>21454</td>\n",
       "      <td>1412</td>\n",
       "      <td>14168</td>\n",
       "      <td>13489</td>\n",
       "    </tr>\n",
       "    <tr>\n",
       "      <th>4</th>\n",
       "      <td>2023</td>\n",
       "      <td>1132</td>\n",
       "      <td>361</td>\n",
       "      <td>206</td>\n",
       "      <td>42</td>\n",
       "      <td>1230</td>\n",
       "    </tr>\n",
       "  </tbody>\n",
       "</table>\n",
       "</div>"
      ],
      "text/plain": [
       "성격     년    문의     불만    요청     제안     칭찬\n",
       "0   2019   408    678   245    304   1120\n",
       "1   2020   462    529   208    187   1430\n",
       "2   2021   762  10664  1243   7404   6157\n",
       "3   2022   839  21454  1412  14168  13489\n",
       "4   2023  1132    361   206     42   1230"
      ]
     },
     "execution_count": 12,
     "metadata": {},
     "output_type": "execute_result"
    }
   ],
   "source": [
    "resort.groupby(['년','성격']).size().unstack(fill_value=0).reset_index()"
   ]
  },
  {
   "cell_type": "code",
   "execution_count": 13,
   "id": "28c79d69-a0fa-4a0d-bc38-281f4b076e16",
   "metadata": {},
   "outputs": [],
   "source": [
    "#특정 열 데이터의 중복값 제거\n",
    "resort = resort.drop_duplicates(subset='내용')\n",
    "before = resort[resort['년']==2019] #before(3321)\n",
    "covid_1 = resort[resort['년']==2020]\n",
    "covid_2 = resort[resort['년']==2021]\n",
    "covid_3 = resort[resort['년']==2022]\n",
    "#covid = resort[(resort['년']>=2020) & (resort['년'] <= 2022)] #covid(97634)\n",
    "after = resort[resort['년']==2023] #after(3070)"
   ]
  },
  {
   "cell_type": "markdown",
   "id": "eb0d383a-d70f-4268-b33c-38c5bbbf388f",
   "metadata": {},
   "source": [
    "### ▶ 불만 리뷰"
   ]
  },
  {
   "cell_type": "code",
   "execution_count": 14,
   "id": "41673d03-0114-421a-9a4a-36bbc224fd5c",
   "metadata": {},
   "outputs": [],
   "source": [
    "neg_19 = pd.DataFrame(before[before['성격']=='불만'][['사업장','내용']])\n",
    "neg_19.reset_index(drop=True, inplace=True) #index 초기화\n",
    "\n",
    "#불용어 불러오기\n",
    "stopword = pd.read_excel('C:/Users/user/Desktop/stopword_list.xlsx')\n",
    "#stopword.rename(columns={0:'불용어'}, inplace=True)"
   ]
  },
  {
   "cell_type": "code",
   "execution_count": 16,
   "id": "bbfc9844-44ae-45e4-ae4b-b01d7e3c14cb",
   "metadata": {},
   "outputs": [],
   "source": [
    "replace_list = pd.read_excel('replace_list.xlsx')\n",
    "replace_list.loc[377] = ['콘도','리조트']\n",
    "replace_list.loc[378] = ['방','객실']\n",
    "replace_list.loc[379] = ['소리','소음']\n",
    "replace_list.loc[380] = ['부페','뷔페']\n",
    "replace_list.loc[381] = ['프런트','프론트']\n",
    "replace_list.loc[382] = ['숙박','투숙']\n",
    "replace_list.loc[383] = ['숙소','객실']\n",
    "replace_list.loc[384] = ['입실','투숙']"
   ]
  },
  {
   "cell_type": "code",
   "execution_count": 17,
   "id": "6adb3391-efac-4ace-9fa9-6e8a00b49968",
   "metadata": {},
   "outputs": [],
   "source": [
    "#데이터 치환\n",
    "def replace_word(내용):\n",
    "    for i in range(len(replace_list['before_replacement'])):\n",
    "        try:\n",
    "            #치환할 단어가 있는 경우에만 데이터 치환 수행\n",
    "            if replace_list['before_replacement'][i] in 내용:\n",
    "                내용 = 내용.replace(replace_list['before_replacement'][i], replace_list['after_replacement'][i])\n",
    "        except Exception as e:\n",
    "            print(f\"Error 발생 / 에러명: {e}\")\n",
    "    return 내용"
   ]
  },
  {
   "cell_type": "code",
   "execution_count": 18,
   "id": "6d3ccf7d-76c9-4b68-82e3-0118bc78417a",
   "metadata": {},
   "outputs": [
    {
     "name": "stderr",
     "output_type": "stream",
     "text": [
      "100%|███████████████████████████████████████████████████████████████████████████████| 678/678 [00:01<00:00, 371.79it/s]\n"
     ]
    }
   ],
   "source": [
    "from tqdm import tqdm\n",
    "neg_19['review_prep'] = ''\n",
    "review_replaced_list = []\n",
    "for 내용 in tqdm(neg_19['내용']):\n",
    "    review_replaced = replace_word(str(내용))\n",
    "    review_replaced_list.append(review_replaced)\n",
    "\n",
    "neg_19['review_prep'] = review_replaced_list"
   ]
  },
  {
   "cell_type": "code",
   "execution_count": 19,
   "id": "b22aa626-f441-473c-bc75-2cb454bfb20b",
   "metadata": {},
   "outputs": [],
   "source": [
    "#list로 변환(df상태에서는 전처리가 어려움)\n",
    "neg_19_ = neg_19.review_prep.values.tolist()\n",
    "\n",
    "#정규표현식 적용\n",
    "import re\n",
    "\n",
    "regex = []\n",
    "\n",
    "for i in range(len(neg_19)):\n",
    "  text = re.sub('[^0-9ㄱ-힣]',' ', str(neg_19_[i]))\n",
    "  text = re.sub(' +',' ', text)\n",
    "  regex.append(text)"
   ]
  },
  {
   "cell_type": "code",
   "execution_count": 20,
   "id": "8d6d88c0-3738-450b-8afe-dfa7119febfa",
   "metadata": {},
   "outputs": [],
   "source": [
    "import re\n",
    "from konlpy.tag import Okt, Hannanum, Kkma\n",
    "from collections import Counter\n",
    "\n",
    "okt = Okt()\n",
    "hannanum = Hannanum()\n",
    "kkma = Kkma()"
   ]
  },
  {
   "cell_type": "code",
   "execution_count": 21,
   "id": "f990d9a7-c153-4d76-b4de-fa83618430af",
   "metadata": {},
   "outputs": [],
   "source": [
    "#형태소 단위 추출\n",
    "noun = []\n",
    "\n",
    "for j in range(len(regex)):\n",
    "    noun.append(okt.nouns(regex[j]))"
   ]
  },
  {
   "cell_type": "code",
   "execution_count": 22,
   "id": "af8f2daa-7b06-47c0-8bdd-da53a8d08354",
   "metadata": {},
   "outputs": [],
   "source": [
    "#한글자 및 불용어 삭제\n",
    "#추가 불용어 삭제\n",
    "plus = ['객실','리조트','이용','다시','정도','상황','부분','하고','입니다','했습니다','너무','라고','워터','피아','있는','계셨고','하세요', '확인','정말',\n",
    "       '안고','무척','인시','지난','지금','오늘','대기업','소속','사실','관련','듭니','때문','리버','원래','보시','굳이','그냥','가지','로우','대해','지고','위해',\n",
    "       '줄어듭','중이','현재','어제','내일','해도','보라','분도','스파크','거도','해주시','향후','단위','없슴','전혀','대한','호실','식별','애가','화가',\n",
    "       '면서','피하','정해','모레','니엄','하니','꼽는','스완','몹시','불구','심했슴니','햇습니','구시','이해','아보','작고','사소리','자꾸','하니',\n",
    "       '여러가지','박일경','더욱','대고','퍽퍽','도구로','앖었으','지보','직윈','귀사','당시','모로','모처럼','물건','번영','보딩','비단','일어나며',\n",
    "       '크게','프라','프라이','하라','따름','마무리','룸에대','비롯','이안','제대로','특성','갑자기','타고','다음주','문하','문해','다가','왜냐면','워낙',\n",
    "       '직접','화만','화도','설악','거제','번호','일찍','새벽','가끔','회원','물이','지인','장도','그대로','만족','수준','부대','운영','충망','보임','바람',\n",
    "       '메이','가능','묵고','가면','훤히','안해','판단','위트','찰나','밤새','대비','산정호수','오기','버디','남편','부모님','여행','만족도','모든','말씀']\n",
    "\n",
    "#enumerate: index, word를 동시에 출력해줌\n",
    "for index, word_list in enumerate(noun):\n",
    "  #한글자 단어 제거\n",
    "  word_list = [w for w in word_list if len(w) >= 2]\n",
    "\n",
    "  #불용어 제거\n",
    "  noun[index] = [w for w in word_list if w not in stopword['stopword'].tolist() and w not in plus]"
   ]
  },
  {
   "cell_type": "code",
   "execution_count": 10,
   "id": "9a33cc6c-9c17-4aa8-88e3-81a8d3f2551a",
   "metadata": {},
   "outputs": [],
   "source": [
    "plus = pd.DataFrame(plus)\n",
    "plus.to_csv('C:/Users/user/Desktop/불용어.csv', index=False, encoding='utf-8-sig')"
   ]
  },
  {
   "cell_type": "code",
   "execution_count": 29,
   "id": "fb7fd4c7-0589-4c6f-9a08-01b7a9366e27",
   "metadata": {
    "scrolled": true
   },
   "outputs": [
    {
     "name": "stdout",
     "output_type": "stream",
     "text": [
      "[{'요구', '안전', '바닥', '구심', '입장', '착용', '보상', '진물', '요원', '발등', '주지', '안내', '주의', '파도', '메일', '튜브', '고객', '손바닥', '위험', '수기', '통증', '상처', '교육', '토렌스', '트롬', '설명', '사고', '의무', '무릎'}, {'캐릭터', '뽀로로', '전이', '말로', '카페', '직원', '아기', '마음', '목요일', '기분', '티비', '본적', '키즈', '여직원', '표정', '조화', '불만', '이야기', '체크아웃', '기도', '선생님', '신건', '무표정', '자고', '정문'}, {'복도', '개선', '공사', '소음', '장소', '바닥', '적도', '거지', '무료', '이도', '세면', '시스템', '도움', '소재', '마음', '매트', '잘못', '명상', '운동', '겨울', '미약', '놀란', '요가', '연령', '신고', '가족', '히터', '진행', '곳도', '외투', '테라스', '모시', '수업', '신발', '주말', '불만족'}, {'최소한', '비치', '계약', '편의점', '비어', '진열', '상대로', '실망', '텅텅', '기간', '재개', '자본주의', '예의', '기본', '고객'}, {'개선', '오픈', '인사', '조개', '먼저', '복사', '두번째', '마킹', '응대', '직원', '고객', '프론트', '찿아', '주차', '용지', '자료', '조감도', '힐링', '위치', '설명', '첯인상', '순두부찌개', '어디가', '친절', '인상', '이미지'}, {'정리', '이불', '그릇', '접시', '응대', '직원', '침구', '고객', '머리카락'}, {'신뢰', '교체', '손님', '빗질', '날짜', '유통', '맨손', '구매', '식사', '커버', '도구', '마감', '영업', '마음', '기한', '초콜릿', '베이글', '대형', '블랙', '음식', '이불', '식당', '커피', '장갑', '시트', '정리', '침대시트', '모양', '고명', '당황', '시정', '불만족', '기본', '발견'}, {'불로', '수영복', '무료', '이함', '성화', '수영장', '안내', '불쾌', '스케줄', '핬음', '마감', '시설', '직원', '부족', '고객', '구함', '프론트', '반납', '짜증', '데스크', '부인', '분실', '교육', '재촉', '실갱', '정리', '체크아웃', '미정', '미비', '홈피', '할인', '관리', '청소직윈'}, {'자주', '손님', '소음', '사양', '인계', '여섯시', '일이', '정전', '과실', '준비', '접지', '해결', '프라이팬', '처리', '구매', '컨디션', '에어', '집중', '불량', '시도', '기와', '투숙', '자리', '전기', '문제', '콘센트', '스키', '직원', '마음', '피해', '담당자', '구나', '프론트', '기사', '지난주', '취사', '구두', '요청', '음식', '잘만', '시기', '이기', '보관', '연락', '평창', '기계', '역시', '정서윤', '전적', '시즌', '누전', '냄새', '연동', '사고', '이야기', '체크아웃', '일행', '내용', '인덕션', '조리', '고도', '손상', '예약', '유지'}, {'칭찬', '설상가상', '오픈', '성함', '과자', '구매', '컨디션', '기억', '신경', '마감', '등지', '청소', '신분증', '주변', '노심초사', '약자', '타입', '친절', '차서', '당황', '한적', '얼굴', '지갑', '달라', '샤워', '달리', '운전면허증', '투숙', '의심', '제시', '엘레베이터', '중앙', '다짜고짜', '마침', '프론트', '교육', '설명', '구체', '추가', '웨스트', '이스트', '경험', '요구', '동반', '이름', '불법', '공간', '보유', '항상', '직원', '간다', '기분', '아뇨', '사용자', '소지', '이유', '거실', '적지', '예약', '뽀로로', '발목', '체크', '부스러기', '머리카락', '불친절', '즈음', '사진', '부스', '매트', '사용권', '최소', '완료', '일색', '선호', '가족', '이야기', '까페', '스마트폰'}]\n"
     ]
    }
   ],
   "source": [
    "# 중복 제거된 단어를 담을 리스트\n",
    "unique_nouns = []\n",
    "\n",
    "# 각 문서의 명사 리스트에서 중복 제거 및 전체 명사 리스트 업데이트\n",
    "for word_list in noun:\n",
    "    # 각 문서에서 중복 제거\n",
    "    unique_words = set(word_list)\n",
    "    unique_nouns.append(unique_words)  # 중복 제거된 단어 리스트를 unique_nouns에 추가\n",
    "\n",
    "print(unique_nouns[:10])"
   ]
  },
  {
   "cell_type": "code",
   "execution_count": 30,
   "id": "618c8f4a-0554-4910-9ed6-efe2f42eff09",
   "metadata": {},
   "outputs": [],
   "source": [
    "regex_19 = pd.DataFrame(regex)\n",
    "df_unique_nouns = pd.DataFrame({'noun': unique_nouns}) #key(열), value(데이터)\n",
    "df_19 = df_unique_nouns.join(regex_19)\n",
    "df_19.rename(columns={0:'review'}, inplace=True)\n",
    "df_19 = pd.concat([df_19, neg_19['사업장']], axis=1)"
   ]
  },
  {
   "cell_type": "code",
   "execution_count": 18,
   "id": "56b53e1f-42f6-41af-887e-c33b8bb8f0e5",
   "metadata": {},
   "outputs": [],
   "source": [
    "neg_21 = pd.DataFrame(covid_2[covid_2['성격']=='불만'][['사업장','내용']])\n",
    "neg_21.reset_index(drop=True, inplace=True) #index 초기화\n",
    "\n",
    "neg_22 = pd.DataFrame(covid_3[covid_3['성격']=='불만'][['사업장','내용']])\n",
    "neg_22.reset_index(drop=True, inplace=True) #index 초기화\n",
    "\n",
    "neg_23 = pd.DataFrame(after[after['성격']=='불만'][['사업장','내용']])\n",
    "neg_23.reset_index(drop=True, inplace=True) #index 초기화"
   ]
  },
  {
   "cell_type": "code",
   "execution_count": 19,
   "id": "eb0d7157-4d1a-4372-9772-8a90de8fad02",
   "metadata": {},
   "outputs": [
    {
     "name": "stderr",
     "output_type": "stream",
     "text": [
      "100%|███████████████████████████████████████████████████████████████████████████| 10664/10664 [00:29<00:00, 359.94it/s]\n",
      "100%|███████████████████████████████████████████████████████████████████████████| 21455/21455 [01:08<00:00, 311.91it/s]\n",
      "100%|███████████████████████████████████████████████████████████████████████████████| 361/361 [00:01<00:00, 250.41it/s]\n"
     ]
    }
   ],
   "source": [
    "#데이터치환 동시 시행\n",
    "dataframes = [neg_21, neg_22, neg_23]\n",
    "\n",
    "for df in dataframes:\n",
    "    df['review_prep'] = ''\n",
    "    review_replaced_list = []\n",
    "    for content in tqdm(df['내용']):\n",
    "        review_replaced = replace_word(str(content))\n",
    "        review_replaced_list.append(review_replaced)\n",
    "    df['review_prep'] = review_replaced_list"
   ]
  },
  {
   "cell_type": "code",
   "execution_count": 20,
   "id": "17f35b22-6a1a-4641-9b3c-d1a318c31a0f",
   "metadata": {},
   "outputs": [
    {
     "name": "stderr",
     "output_type": "stream",
     "text": [
      "100%|████████████████████████████████████████████████████████████████████████████████████| 3/3 [00:00<00:00,  4.61it/s]\n"
     ]
    }
   ],
   "source": [
    "#list로 변환(df상태에서는 전처리가 어려움)\n",
    "dfs = [neg_21, neg_22, neg_23] \n",
    "\n",
    "#정규표현식 적용\n",
    "regex_21 = []\n",
    "regex_22 = []\n",
    "regex_23 = []\n",
    "\n",
    "for df in tqdm(dfs):\n",
    "    review_prep_list = df['review_prep'].values.tolist()\n",
    "    for text in review_prep_list:\n",
    "        clean_text = re.sub('[^0-9ㄱ-힣]', ' ', str(text))\n",
    "        clean_text = re.sub(' +', ' ', clean_text)\n",
    "        \n",
    "        if df is neg_21:\n",
    "            regex_21.append(clean_text)\n",
    "        elif df is neg_22:\n",
    "            regex_22.append(clean_text)\n",
    "        elif df is neg_23:\n",
    "            regex_23.append(clean_text)"
   ]
  },
  {
   "cell_type": "code",
   "execution_count": 21,
   "id": "bd1c74b2-374d-4dfe-b83f-c3c47b3d5fa2",
   "metadata": {},
   "outputs": [
    {
     "name": "stderr",
     "output_type": "stream",
     "text": [
      "100%|███████████████████████████████████████████████████████████████████████████| 10664/10664 [01:35<00:00, 111.23it/s]\n",
      "100%|████████████████████████████████████████████████████████████████████████████| 21455/21455 [03:45<00:00, 94.98it/s]\n",
      "100%|████████████████████████████████████████████████████████████████████████████████| 361/361 [00:16<00:00, 21.95it/s]\n"
     ]
    }
   ],
   "source": [
    "#한글자, 불용어, 중복단어 제거\n",
    "def extract_nouns(texts):\n",
    "    okt = Okt()\n",
    "    nouns_list = []\n",
    "\n",
    "    for text in tqdm(texts):\n",
    "        nouns = okt.nouns(text)\n",
    "        nouns = [noun for noun in nouns if len(noun) >= 2]\n",
    "        nouns = [noun for noun in nouns if noun not in stopword['stopword'].tolist() and noun not in plus]\n",
    "        nouns = set(nouns)\n",
    "        nouns_list.append(nouns)\n",
    "\n",
    "    return nouns_list\n",
    "\n",
    "noun_21 = extract_nouns(regex_21)\n",
    "noun_22 = extract_nouns(regex_22)\n",
    "noun_23 = extract_nouns(regex_23)"
   ]
  },
  {
   "cell_type": "code",
   "execution_count": 33,
   "id": "a9c8e7f2-ab2e-445f-aab2-1bcb3222bde7",
   "metadata": {},
   "outputs": [],
   "source": [
    "regex_21 = pd.DataFrame(regex_21)\n",
    "df_noun_21 = pd.DataFrame({'noun': noun_21})\n",
    "df_21 = df_noun_21.join(regex_21)\n",
    "df_21.rename(columns={0:'review'}, inplace=True)\n",
    "df_21 = pd.concat([df_21, neg_21['사업장']], axis=1)\n",
    "\n",
    "regex_22 = pd.DataFrame(regex_22)\n",
    "df_noun_22 = pd.DataFrame({'noun': noun_22}) \n",
    "df_22 = df_noun_22.join(regex_22)\n",
    "df_22.rename(columns={0:'review'}, inplace=True)\n",
    "df_22 = pd.concat([df_22, neg_22['사업장']], axis=1)\n",
    "\n",
    "regex_23 = pd.DataFrame(regex_23)\n",
    "df_noun_23 = pd.DataFrame({'noun': noun_23}) \n",
    "df_23 = df_noun_23.join(regex_23)\n",
    "df_23.rename(columns={0:'review'}, inplace=True)\n",
    "df_23 = pd.concat([df_23, neg_23['사업장']], axis=1)"
   ]
  },
  {
   "cell_type": "code",
   "execution_count": 34,
   "id": "382cd2f7-a5ef-4257-aa90-fa21b36e2caa",
   "metadata": {},
   "outputs": [],
   "source": [
    "### 추출 명사 중 최소/최대 토큰 개수 정하기\n",
    "min_token = 3\n",
    "max_token = 15\n",
    "\n",
    "df_19 = df_19[df_19['noun'].apply(lambda tokens: min_token <= len(tokens) <= max_token)][['noun','review','사업장']]\n",
    "df_21 = df_21[df_21['noun'].apply(lambda tokens: min_token <= len(tokens) <= max_token)][['noun','review','사업장']]\n",
    "df_22 = df_22[df_22['noun'].apply(lambda tokens: min_token <= len(tokens) <= max_token)][['noun','review','사업장']]\n",
    "df_23 = df_23[df_23['noun'].apply(lambda tokens: min_token <= len(tokens) <= max_token)][['noun','review','사업장']]"
   ]
  },
  {
   "cell_type": "code",
   "execution_count": 35,
   "id": "bad00bde-0328-4fc9-82aa-0063d70fcef7",
   "metadata": {},
   "outputs": [],
   "source": [
    "sul_19 = df_19[df_19['사업장']=='A']\n",
    "sul_21 = df_21[df_21['사업장']=='A']\n",
    "sul_22 = df_22[df_22['사업장']=='A']\n",
    "sul_23 = df_23[df_23['사업장']=='A']\n",
    "\n",
    "sul = pd.concat([sul_19, sul_21, sul_22, sul_23], axis=0)"
   ]
  },
  {
   "cell_type": "code",
   "execution_count": 59,
   "id": "16fb3d5a-e6de-481b-abcf-39dfe4313efb",
   "metadata": {},
   "outputs": [
    {
     "data": {
      "text/plain": [
       "{'시설': 871,\n",
       " '직원': 544,\n",
       " '상태': 496,\n",
       " '청소': 496,\n",
       " '냄새': 461,\n",
       " '노후': 460,\n",
       " '화장실': 452,\n",
       " '침구': 437,\n",
       " '침대': 425,\n",
       " '소음': 424,\n",
       " '머리카락': 405,\n",
       " '투숙': 321,\n",
       " '별관': 308,\n",
       " '이불': 288,\n",
       " '바닥': 287,\n",
       " '냉장고': 267,\n",
       " '불편': 242,\n",
       " '청결': 240,\n",
       " '가격': 237,\n",
       " '엘리베이터': 233,\n",
       " '주차장': 232,\n",
       " '에어컨': 231,\n",
       " '교체': 218,\n",
       " '신경': 217,\n",
       " '주차': 217,\n",
       " '실내': 214,\n",
       " '관리': 211,\n",
       " '추천': 202,\n",
       " '먼지': 198,\n",
       " '개선': 195,\n",
       " '프론트': 183,\n",
       " '체크': 178,\n",
       " '안내': 172,\n",
       " '요구': 168,\n",
       " '부족': 158,\n",
       " '곰팡이': 148,\n",
       " '편의점': 147,\n",
       " '조식': 145,\n",
       " '모델링': 144,\n",
       " '별로': 141,\n",
       " '위생': 135,\n",
       " '거리': 135,\n",
       " '샤워': 134,\n",
       " '수건': 129,\n",
       " '음식': 127,\n",
       " '가족': 123,\n",
       " '고객': 120,\n",
       " '위치': 119,\n",
       " '식탁': 119,\n",
       " '욕실': 115,\n",
       " '건물': 115,\n",
       " '온도': 114,\n",
       " '기분': 112,\n",
       " '응대': 111,\n",
       " '고장': 111,\n",
       " '워터파크': 109,\n",
       " '내부': 106,\n",
       " '복도': 106,\n",
       " '변기': 102,\n",
       " '배정': 100,\n",
       " '벌레': 100,\n",
       " '편의': 94,\n",
       " '필요': 92,\n",
       " '거실': 92,\n",
       " '예약': 89,\n",
       " '온돌': 89,\n",
       " '문제': 88,\n",
       " '전자렌지': 86,\n",
       " '스파': 84,\n",
       " '베개': 83,\n",
       " '매트리스': 82,\n",
       " '주변': 81,\n",
       " '조절': 80,\n",
       " '이동': 79,\n",
       " '사우나': 79,\n",
       " '불량': 79,\n",
       " '엘레베이터': 79,\n",
       " '식당': 78,\n",
       " '쓰레기': 78,\n",
       " '층간소음': 78,\n",
       " '조명': 78,\n",
       " '공간': 77,\n",
       " '벽지': 77,\n",
       " '비치': 76,\n",
       " '불만족': 75,\n",
       " '티비': 75,\n",
       " '친절': 73,\n",
       " '낙후': 73,\n",
       " '최악': 72,\n",
       " '실망': 72,\n",
       " '요청': 71,\n",
       " '컨디션': 71,\n",
       " '전자레인지': 70,\n",
       " '구비': 68,\n",
       " '뷔페': 67,\n",
       " '창문': 66,\n",
       " '콘센트': 66,\n",
       " '의자': 65,\n",
       " '베란다': 65,\n",
       " '계단': 64,\n",
       " '비품': 63,\n",
       " '중앙': 63,\n",
       " '커버': 61,\n",
       " '세면대': 61,\n",
       " '코로나': 61,\n",
       " '작동': 61,\n",
       " '마음': 61,\n",
       " '가성': 59,\n",
       " '주차공간': 58,\n",
       " '이야기': 56,\n",
       " '아쉬움': 56,\n",
       " '담배': 55,\n",
       " '샴푸': 55,\n",
       " '저녁': 54,\n",
       " '점검': 54,\n",
       " '체크아웃': 53,\n",
       " '비데': 53,\n",
       " '분리수거': 53,\n",
       " '항상': 52,\n",
       " '수기': 52,\n",
       " '당황': 52,\n",
       " '설명': 52,\n",
       " '기본': 51,\n",
       " '인테리어': 51,\n",
       " '기류': 50,\n",
       " '수리': 49,\n",
       " '환기': 49,\n",
       " '발견': 49,\n",
       " '추가': 49,\n",
       " '메뉴': 48,\n",
       " '식기': 48,\n",
       " '나이트': 48,\n",
       " '전화': 47,\n",
       " '쇼파': 46,\n",
       " '로비': 45,\n",
       " '본관': 45,\n",
       " '연동': 45,\n",
       " '식사': 45,\n",
       " '세탁': 45,\n",
       " '손님': 45,\n",
       " '호텔': 45,\n",
       " '엘베': 45,\n",
       " '설치': 44,\n",
       " '대기': 44,\n",
       " '입장': 43,\n",
       " '불친절': 43,\n",
       " '불만': 43,\n",
       " '이유': 43,\n",
       " '처리': 43,\n",
       " '어려움': 43}"
      ]
     },
     "execution_count": 59,
     "metadata": {},
     "output_type": "execute_result"
    }
   ],
   "source": [
    "#명사 빈도 수\n",
    "sul_noun = []\n",
    "for nouns in sul['noun']:\n",
    "    sul_noun.append(' '.join(nouns))\n",
    "\n",
    "all_text = ' '.join(sul_noun)\n",
    "\n",
    "#명사 빈도 계산\n",
    "wordcount = Counter()\n",
    "for nouns in sul['noun']:\n",
    "    wordcount.update(nouns)\n",
    "\n",
    "#상위 20개 명사 추출\n",
    "top_sul = dict(wordcount.most_common(150))\n",
    "top_sul"
   ]
  },
  {
   "cell_type": "code",
   "execution_count": 43,
   "id": "5c679574-b823-4d4c-8385-d527a3dd977f",
   "metadata": {},
   "outputs": [
    {
     "data": {
      "image/png": "[encoded data removed]",
      "text/plain": [
       "<Figure size 1000x800 with 1 Axes>"
      ]
     },
     "metadata": {},
     "output_type": "display_data"
    }
   ],
   "source": [
    "from wordcloud import WordCloud\n",
    "\n",
    "wordcloud = WordCloud(font_path='C:/Windows/Fonts/HMFMMUEX.TTC', background_color='white', width=800, height=600).generate_from_frequencies(top_sul)\n",
    "plt.figure(figsize=(10,8))\n",
    "plt.imshow(wordcloud, interpolation='bilinear') #부드럽게\n",
    "plt.axis('off')\n",
    "plt.show()"
   ]
  },
  {
   "cell_type": "markdown",
   "id": "39e8a4b7-b381-411b-a30c-985eb4db2eb3",
   "metadata": {},
   "source": [
    "### ▶ LDA 사전 제작"
   ]
  },
  {
   "cell_type": "code",
   "execution_count": 24,
   "id": "876e5c41-faea-4f2f-8be6-f3cb9773e3c2",
   "metadata": {},
   "outputs": [],
   "source": [
    "#LDA가 들어가있는 gensim 모델 사용하기\n",
    "#LDA를 위해 데이터가 dictionary 형태로 들어가야 함\n",
    "import gensim\n",
    "\n",
    "#사전 만들기(각 단어에 고유한 ID 할당)\n",
    "id2word = gensim.corpora.Dictionary(df_19['noun'])\n",
    "\n",
    "texts = df_19['noun'].copy()"
   ]
  },
  {
   "cell_type": "code",
   "execution_count": 25,
   "id": "d85284db-d567-4b7f-ad0c-027c9db88b9f",
   "metadata": {},
   "outputs": [
    {
     "name": "stdout",
     "output_type": "stream",
     "text": [
      "[[(0, 1), (1, 1), (2, 1), (3, 1), (4, 1), (5, 1), (6, 1), (7, 1), (8, 1), (9, 1), (10, 1), (11, 1), (12, 1), (13, 1), (14, 1)]]\n"
     ]
    }
   ],
   "source": [
    "#term document frequency 만들기\n",
    "#단어를 숫자로 변환하고 카운트까지 알려줌\n",
    "#앞에 0,1,2,3,4,5는 사전에 들어있는 단어의 순서\n",
    "#(0,1),(1,5),(2,3) -> 첫번째 단어는 1번, 2번째 단어는 5번, 3번째 단어는 3번 나왔다는 뜻\n",
    "\n",
    "corpus = [id2word.doc2bow(text) for text in texts]\n",
    "\n",
    "print(corpus[:1])"
   ]
  },
  {
   "cell_type": "markdown",
   "id": "e5c61ae3-2a14-4d20-bc12-ef94a83142f0",
   "metadata": {},
   "source": [
    "### ▶최적의 토픽 수 찾기"
   ]
  },
  {
   "cell_type": "code",
   "execution_count": 145,
   "id": "b769598f-4f93-43f8-a971-dcc661d0f1e9",
   "metadata": {},
   "outputs": [],
   "source": [
    "PASSES = 10\n",
    "\n",
    "perplexity_values = []\n",
    "\n",
    "for i in range(2,8):\n",
    "  ldamodel = gensim.models.ldamodel.LdaModel(corpus, num_topics=i, id2word=id2word, passes = PASSES)\n",
    "  perplexity_values.append(ldamodel.log_perplexity(corpus))"
   ]
  },
  {
   "cell_type": "code",
   "execution_count": 146,
   "id": "d1863772-a571-44aa-ac8f-528423d1737d",
   "metadata": {},
   "outputs": [
    {
     "data": {
      "image/png": "[encoded data removed]",
      "text/plain": [
       "<Figure size 640x480 with 1 Axes>"
      ]
     },
     "metadata": {},
     "output_type": "display_data"
    }
   ],
   "source": [
    "x = range(2,8)\n",
    "plt.plot(x, perplexity_values)\n",
    "plt.xlabel('Number of topics')\n",
    "plt.ylabel('Perplexity score')\n",
    "plt.show()"
   ]
  },
  {
   "cell_type": "code",
   "execution_count": 147,
   "id": "81f32525-feee-4e35-9d9a-7c2361ee2b97",
   "metadata": {},
   "outputs": [],
   "source": [
    "from gensim.models import CoherenceModel\n",
    "\n",
    "PASSES = 10\n",
    "coherence_values = []\n",
    "\n",
    "for i in range(2,8):\n",
    "  ldamodel = gensim.models.ldamodel.LdaModel(corpus, num_topics=i, id2word=id2word, passes = PASSES, random_state=10)\n",
    "  coherence_model_lda = CoherenceModel(model=ldamodel, texts=texts, dictionary=id2word)\n",
    "  coherence_lda = coherence_model_lda.get_coherence()\n",
    "  coherence_values.append(coherence_lda)"
   ]
  },
  {
   "cell_type": "code",
   "execution_count": 148,
   "id": "251e58db-dff9-43d3-9dea-467174478633",
   "metadata": {},
   "outputs": [
    {
     "data": {
      "image/png": "[encoded data removed]",
      "text/plain": [
       "<Figure size 640x480 with 1 Axes>"
      ]
     },
     "metadata": {},
     "output_type": "display_data"
    }
   ],
   "source": [
    "x = range(2,8)\n",
    "plt.plot(x, coherence_values)\n",
    "plt.xlabel('Number of topics')\n",
    "plt.ylabel('coherence score')\n",
    "plt.show()"
   ]
  },
  {
   "cell_type": "code",
   "execution_count": 26,
   "id": "b69a744d-514f-4121-940e-63e424f8db3e",
   "metadata": {},
   "outputs": [],
   "source": [
    "#LDA도 확률모델이어서 매번 값이 바뀔 수 있어서 random_state를 지정해둠\n",
    "number = 3\n",
    "PASSES = 10\n",
    "\n",
    "model = gensim.models.ldamodel.LdaModel(\n",
    "    corpus = corpus,\n",
    "    id2word = id2word,\n",
    "    num_topics = number,\n",
    "    passes = PASSES\n",
    ")"
   ]
  },
  {
   "cell_type": "code",
   "execution_count": 27,
   "id": "c68d2cf2-78b4-4de3-839c-12fa9b953faa",
   "metadata": {},
   "outputs": [
    {
     "data": {
      "text/plain": [
       "[(0, '0.016*\"불만족\" + 0.015*\"직원\" + 0.015*\"청소\" + 0.013*\"고객\" + 0.012*\"냄새\"'),\n",
       " (1, '0.023*\"시설\" + 0.020*\"고객\" + 0.011*\"투숙\" + 0.010*\"관리\" + 0.009*\"가격\"'),\n",
       " (2, '0.014*\"소음\" + 0.011*\"조식\" + 0.007*\"수영장\" + 0.007*\"직원\" + 0.007*\"가격\"')]"
      ]
     },
     "execution_count": 27,
     "metadata": {},
     "output_type": "execute_result"
    }
   ],
   "source": [
    "ldamodel = gensim.models.ldamodel.LdaModel(corpus, num_topics=3, id2word=id2word, passes = PASSES)\n",
    "ldamodel.print_topics(num_words=5)"
   ]
  },
  {
   "cell_type": "code",
   "execution_count": 28,
   "id": "fc3f19e5-894c-4d0c-86b2-5badb1d1acda",
   "metadata": {},
   "outputs": [],
   "source": [
    "import pyLDAvis.gensim\n",
    "\n",
    "vis = pyLDAvis.gensim.prepare(model, corpus, id2word)"
   ]
  },
  {
   "cell_type": "code",
   "execution_count": 29,
   "id": "12ea7cff-893f-4ca8-8caf-7a16de1cb9fc",
   "metadata": {
    "scrolled": true
   },
   "outputs": [
    {
     "data": {
      "text/html": [
       "\n",
       "<link rel=\"stylesheet\" type=\"text/css\" href=\"https://cdn.jsdelivr.net/gh/bmabey/pyLDAvis@3.4.0/pyLDAvis/js/ldavis.v1.0.0.css\">\n",
       "\n",
       "\n",
       "<div id=\"ldavis_el1508420069944871042207310639\" style=\"background-color:white;\"></div>\n",
       "<script type=\"text/javascript\">\n",
       "\n",
       "var ldavis_el1508420069944871042207310639_data = {\"mdsDat\": {\"x\": [0.055165057452253606, -0.0940416022982296, 0.038876544845976024], \"y\": [0.07011874373352937, 0.00859273218728229, -0.07871147592081165], \"topics\": [1, 2, 3], \"cluster\": [1, 1, 1], \"Freq\": [41.382455598021245, 36.26139366995197, 22.356150732026784]}, \"tinfo\": {\"Term\": [\"\\ub0c4\\uc0c8\", \"\\uc0ac\\uc6b0\\ub098\", \"\\uc9c1\\uc6d0\", \"\\uc608\\uc57d\", \"\\uace0\\uac1d\", \"\\uad50\\uccb4\", \"\\uc2dc\\uc124\", \"\\ud654\\uc7a5\\uc2e4\", \"\\uc81c\\uc8fc\", \"\\uc628\\ub3c4\", \"\\uc870\\uc2dd\", \"\\ubd88\\ub9cc\", \"\\uad50\\uc721\", \"\\uc8fc\\ubcc0\", \"\\uacbd\\uc8fc\", \"\\uc758\\uc790\", \"\\uc774\\uc720\", \"\\ubcc4\\uad00\", \"\\ud558\\uc218\", \"\\uc870\\uce58\", \"\\ubc14\\ud034\", \"\\uc640\\uc774\\ud30c\\uc774\", \"\\ub3c4\\ucc29\", \"\\ubca0\\ub780\\ub2e4\", \"\\uba3c\\uc9c0\", \"\\uad00\\ub9ac\", \"\\uccb4\\ud06c\\uc544\\uc6c3\", \"\\ub178\\ud6c4\", \"\\uacf5\\uc9c0\", \"\\uce68\\uad6c\", \"\\uad50\\uccb4\", \"\\ubcc4\\uad00\", \"\\ub300\\uc751\", \"\\ucc28\\ub7c9\", \"\\ucc3d\\ubb38\", \"\\ucd5c\\uc18c\\ud55c\", \"\\ucee4\\ubc84\", \"\\uc544\\uc26c\\uc6c0\", \"\\uc138\\ubc88\", \"\\uadf8\\ub987\", \"\\ud56b\\ub3c4\\uadf8\", \"\\uc131\\ub2a5\", \"\\uc5b4\\ub824\\uc6c0\", \"\\ucc98\\ub9ac\", \"\\ub9e4\\ub144\", \"\\ub370\\ub9ac\", \"\\ub9e4\\uc7a5\", \"\\uc9c4\\uc5f4\", \"\\uc815\\ub9ac\", \"\\uc2dd\\uc0ac\", \"\\uc5c5\\ubb34\", \"\\uc544\\uc608\", \"\\ucef4\\ud4e8\\ud130\", \"\\uad00\\uacc4\", \"\\ube44\\ub2d0\", \"\\ud0a4\\uc988\", \"\\uc13c\\ud130\", \"\\uc77c\\ubd80\\ub7ec\", \"\\uc791\\ub144\", \"\\uc885\\ub958\", \"\\uad00\\ub9ac\", \"\\ubf40\\ub85c\\ub85c\", \"\\uc218\\uac74\", \"\\ub0c9\\uc7a5\\uace0\", \"\\uc9c1\\uc6d0\", \"\\uc785\\uc7a5\", \"\\uc9c4\\uc785\", \"\\uc2e4\\ub9dd\", \"\\uc774\\uc57c\\uae30\", \"\\uc5d0\\uc5b4\\ucee8\", \"\\uace0\\uac1d\", \"\\uc694\\uad6c\", \"\\uc774\\ubd88\", \"\\uac00\\uaca9\", \"\\uc2dd\\ub2f9\", \"\\uccb4\\ud06c\", \"\\uc2dc\\uc124\", \"\\ud22c\\uc219\", \"\\uce68\\uad6c\", \"\\uc18c\\uc74c\", \"\\ube44\\uce58\", \"\\uc2e0\\uacbd\", \"\\ubcc0\\uae30\", \"\\ub0b4\\ubd80\", \"\\ubd88\\ub9cc\\uc871\", \"\\uc628\\ub3c4\", \"\\uccad\\uc18c\", \"\\ud504\\ub860\\ud2b8\", \"\\uac1c\\uc120\", \"\\uc695\\uc2e4\", \"\\uc190\\ub2d8\", \"\\ubc14\\ub2e5\", \"\\uc8fc\\ucc28\\uc7a5\", \"\\ud654\\uc7a5\\uc2e4\", \"\\uc0ac\\uc6b0\\ub098\", \"\\ub0c4\\uc0c8\", \"\\ubc14\\ud034\", \"\\uc640\\uc774\\ud30c\\uc774\", \"\\ud558\\uc218\", \"\\ud1b5\\ub85c\", \"\\ubb3c\\ub54c\", \"\\ud328\\ubc00\\ub9ac\", \"\\ub77d\\uc2a4\", \"\\uce35\\uac04\\uc18c\\uc74c\", \"\\ubcc0\\ud654\", \"\\uc9c4\\ub3d9\", \"\\uc218\\uc555\", \"\\ubbf8\\ud761\", \"\\uc758\\uc790\", \"\\ubb3c\\uc9c8\", \"\\uc81c\\uac70\", \"\\ub178\\ud6c4\", \"\\uac70\\ub098\", \"\\uacf5\\uc720\\uae30\", \"\\ud328\\ub4dc\", \"\\ub4e3\\uae30\", \"\\ubd80\\ud53c\", \"\\ud3ec\\uae30\", \"\\uc785\\uc695\", \"\\uc1fc\\ud30c\", \"\\uce68\\uc2e4\", \"\\ub2c8\\uc694\", \"\\ud2b8\\ub9ac\", \"\\ucde8\\uc0ac\", \"\\uba3c\\uc9c0\", \"\\uc870\\uc2dd\", \"\\ud654\\uc7a5\\uc2e4\", \"\\ud658\\uae30\", \"\\uc0c1\\ud0dc\", \"\\ubd80\\uc871\", \"\\uc2dc\\uc124\", \"\\uccad\\uc18c\", \"\\uacf0\\ud321\\uc774\", \"\\uc8fc\\ucc28\", \"\\uce68\\uad6c\", \"\\uc790\\uc8fc\", \"\\uac00\\uaca9\", \"\\uc548\\ub0b4\", \"\\ubc14\\ub2e5\", \"\\uba38\\ub9ac\\uce74\\ub77d\", \"\\uac1c\\uc120\", \"\\uc0e4\\uc6cc\", \"\\ud22c\\uc219\", \"\\ubd88\\ub9cc\\uc871\", \"\\uce68\\ub300\", \"\\uc18c\\uc74c\", \"\\uae30\\ubd84\", \"\\uace0\\uac1d\", \"\\uc694\\uad6c\", \"\\uc695\\uc2e4\", \"\\uc81c\\uc8fc\", \"\\uc870\\uce58\", \"\\uc774\\uc720\", \"\\ud65c\\uc6a9\", \"\\uc11c\\ub85c\", \"\\uc720\\uc120\", \"\\uacf5\\uc0ac\", \"\\ucd94\\uac00\", \"\\ucfe0\\ud3f0\", \"\\uc601\\uc5c5\", \"\\uc54c\\ubc14\\uc0dd\", \"\\uc6b0\\uc655\\uc88c\\uc655\", \"\\uc288\\ud37c\\ub9c8\\ucf13\", \"\\ub9c8\\uc74c\", \"\\ub3c4\\ucc29\", \"\\uccb4\\ud06c\\uc544\\uc6c3\", \"\\uc18c\\uc591\\uc99d\", \"\\uc2a4\\ud14c\\ub85c\\uc774\\ub4dc\", \"\\uc8fc\\uc0ac\", \"\\uc9c1\\ud6c4\", \"\\uc628\\ucc9c\", \"\\uc790\\ub791\", \"\\uad11\\uace0\", \"\\uc628\\ubab8\", \"\\uc758\\uacac\", \"\\uc0ad\\uc81c\", \"\\uc2e4\\uc678\", \"\\ucde8\\ud588\", \"\\ucd9c\\uadfc\", \"\\uc790\\ubd80\\uc2ec\", \"\\uc608\\uc57d\", \"\\uacbd\\uc8fc\", \"\\ubd88\\ub9cc\", \"\\uad50\\uc721\", \"\\uc8fc\\ub9d0\", \"\\uc124\\uc815\", \"\\uacf5\\uc9c0\", \"\\ucd5c\\uc545\", \"\\uc9c8\\ubb38\", \"\\uc8fc\\ubcc0\", \"\\uae30\\uacc4\", \"\\ub9c8\\uac10\", \"\\ud3ec\\uc7a5\", \"\\ud14c\\uc774\\ube14\", \"\\uc218\\uc9c8\", \"\\uc694\\uccad\", \"\\uace0\\uac1d\", \"\\uc628\\ub3c4\", \"\\uc9c1\\uc6d0\", \"\\ud544\\uc694\", \"\\uc2e4\\ub0b4\", \"\\ubca0\\ub780\\ub2e4\", \"\\ubd88\\ub9cc\\uc871\", \"\\uc18c\\uc74c\", \"\\uae30\\ubd84\", \"\\ud504\\ub860\\ud2b8\", \"\\uc548\\ub0b4\", \"\\ubd88\\ub7c9\", \"\\uc74c\\uc2dd\", \"\\uac00\\uc871\", \"\\uccad\\uc18c\", \"\\ubc14\\ub2e5\", \"\\ud22c\\uc219\", \"\\ubb38\\uc81c\", \"\\uccb4\\ud06c\", \"\\uc0c1\\ud0dc\", \"\\uac1c\\uc120\"], \"Freq\": [17.0, 12.0, 25.0, 10.0, 34.0, 7.0, 30.0, 15.0, 3.0, 8.0, 8.0, 7.0, 6.0, 6.0, 5.0, 6.0, 3.0, 5.0, 4.0, 2.0, 4.0, 4.0, 3.0, 6.0, 6.0, 10.0, 3.0, 5.0, 3.0, 14.0, 7.4489688039391, 5.240885887161698, 3.8471829895189793, 3.843972012175471, 3.128975627274325, 3.0925948455017847, 3.6322417801014897, 3.0222193479628174, 2.4071801995929207, 2.407028517526353, 2.406937607913385, 2.40672191551659, 2.4059582747676607, 2.405719917234482, 2.4057358575501806, 2.405465868453038, 2.405142080790413, 2.3991873766073075, 2.391230917466881, 4.5870838760920725, 1.6849223782225449, 1.6849039472325187, 1.6848880069168202, 1.6848842709053282, 1.6848689532582117, 1.684753385969398, 1.6847171466579272, 1.6847185165288077, 1.68469149271235, 1.6846589894123711, 8.145272678009475, 5.4800748074308725, 3.8032928246478677, 9.657592695180519, 17.140386350896883, 4.574317177622203, 3.1315634379009967, 3.1237850619750143, 3.062616342089071, 6.024569590542371, 18.56353773645534, 8.778697486132947, 6.071149683687597, 9.623361863487807, 5.30783720563469, 5.781434944002963, 12.765977170583925, 8.269773019367694, 7.615122186487127, 9.305607610354716, 4.594525512848925, 4.561374637544786, 3.4562758879038977, 4.597505853749672, 7.468593823238232, 4.550635846112679, 7.4561633658026265, 5.275984469790243, 5.346762460300597, 4.563264063089918, 4.5122107188518115, 5.084247378681055, 4.569440935423072, 4.559158933662699, 11.495932764599662, 15.84084766355961, 3.7836779808650816, 3.776563179520739, 4.315152331814835, 3.013133864755336, 2.3653495349699023, 2.365342114624942, 2.3642720572325704, 2.3638320744255092, 2.3639425066181547, 2.361411950741233, 2.348454937213249, 2.347633024886169, 5.314667123593526, 3.512209461890089, 2.2760528854715223, 4.481925894271505, 1.6558429940496564, 1.6558384108954163, 1.6558046919749345, 1.655791815493974, 1.655768681477333, 1.6555520728781226, 1.6555351588565217, 1.6552795934462694, 1.6549684845715344, 1.6549321467057727, 1.6540982308794925, 1.653859252122681, 4.997404163941128, 5.914385077671045, 10.68579259655425, 4.136946636719533, 9.898976755173642, 4.310397200167886, 16.780818551940232, 12.71300814219811, 4.478298655058531, 5.850835497467025, 7.0122578513719125, 3.7067294401170563, 8.066624706079326, 5.391873193960763, 6.268082367569677, 4.819704798266651, 5.842254959747572, 3.7658385985986222, 5.8698542780913, 6.167734860216365, 4.2513657370629625, 6.141779366526795, 4.342060685095491, 6.076413547771008, 4.689420127416217, 3.7900568585857086, 3.2055157999008674, 2.064008299449098, 2.4673719410617267, 1.447395132999246, 1.447298522981924, 1.4472351478869954, 1.4466245402844773, 1.445878705568577, 1.4457499370635944, 1.4452359394783987, 1.4359259900236134, 1.4356380437324303, 1.4346848607760097, 1.4343124143582553, 2.235074634508408, 2.077209425910762, 0.8270165978519809, 0.8270118884500223, 0.8270067753850386, 0.8270025369232759, 0.8269934545052129, 0.8269895524293044, 0.8269851794131999, 0.8269841702556374, 0.8269824883263664, 0.8269774425385537, 0.8269771734298703, 0.8269765679353328, 0.8269703111584449, 0.8269647944304362, 6.537106865081073, 3.3799864943588784, 4.095347881174413, 3.3130984546778586, 2.1026743732899873, 1.4896932321849492, 2.079007744687239, 1.477752072578723, 1.162254568948869, 3.1523687187003087, 1.1600882440479132, 1.466971309615096, 1.4585367707072434, 1.4583645411499004, 1.4558606194056836, 2.710750874086656, 9.767554777168135, 3.3289424975186885, 6.823448730293918, 3.2713395147392443, 3.387378371673097, 2.5411502394712038, 4.946428581154448, 5.252704402977654, 3.3402364507414615, 3.345014206305632, 3.1785548773509076, 1.8551979914523926, 2.1861892929716986, 2.2684107417668953, 2.9587964207895325, 2.5633578953471776, 2.6572472238806597, 2.068037125547509, 2.0911748210331362, 2.0922846252432654, 2.0896220639302148], \"Total\": [17.0, 12.0, 25.0, 10.0, 34.0, 7.0, 30.0, 15.0, 3.0, 8.0, 8.0, 7.0, 6.0, 6.0, 5.0, 6.0, 3.0, 5.0, 4.0, 2.0, 4.0, 4.0, 3.0, 6.0, 6.0, 10.0, 3.0, 5.0, 3.0, 14.0, 7.907599052117408, 5.732997014941909, 4.295503927803595, 4.295396079086808, 3.573568687078057, 3.5727999920193705, 4.29204707238143, 3.5713093205276816, 2.851223864177594, 2.85121295096659, 2.851208980577985, 2.8511957859540296, 2.8511224430717936, 2.851113097024158, 2.8511545404433325, 2.8511110564621274, 2.8509483636372606, 2.850900640198307, 2.850922987165192, 5.728188218481334, 2.1288402532078363, 2.128843643355946, 2.1288391534649604, 2.1288377688616964, 2.128836485012094, 2.1288221619008483, 2.1288125642412723, 2.128818154440238, 2.1288297344801945, 2.1288122119621855, 10.580601962698072, 7.075272532119881, 4.916038466043128, 13.455740492142013, 25.57886661444937, 6.260094675549728, 4.282817855642015, 4.282938604274145, 4.1915552837664, 9.221388132246698, 34.407506061394486, 14.858649005322125, 9.929845261692435, 19.12587771001625, 8.492358228148966, 9.736712160743144, 30.594031356449065, 16.796874521339653, 14.98700187947697, 20.700091379859167, 7.7727446210088695, 7.685455677900145, 4.998558258156061, 7.857567683110945, 18.582757264609043, 8.117461699298783, 23.12796792879027, 11.67687023589583, 13.278639483978383, 8.566476931245386, 8.374655420232942, 13.91568764159791, 9.757351386262934, 15.638826803317732, 12.042826464362143, 17.63069547873954, 4.2333139450425765, 4.233141951906287, 4.921239143262031, 3.5235196378705775, 2.8136197598831982, 2.8136114625334607, 2.813607381719151, 2.8134974994542366, 2.8136309000144504, 2.8136486555346902, 2.8138792882545864, 2.813588841962299, 6.373130219324625, 4.212878042779993, 2.814978386451672, 5.66440693403941, 2.103790901139641, 2.1037916251343165, 2.103789379142701, 2.1037882290971455, 2.1037864218852755, 2.103769871145048, 2.1037630937641207, 2.103752372771823, 2.1037264166967105, 2.103792505163318, 2.1037637180968787, 2.103808059828385, 6.371056996201078, 8.224634769947947, 15.638826803317732, 5.670471541342884, 16.096089186974684, 6.255822040251385, 30.594031356449065, 23.12796792879027, 7.106140418385679, 9.965637560722545, 14.98700187947697, 6.297821869686666, 19.12587771001625, 10.940527609645915, 13.91568764159791, 9.23989541281524, 13.278639483978383, 6.918449624971791, 16.796874521339653, 18.582757264609043, 9.14174569873597, 20.700091379859167, 10.932529748359727, 34.407506061394486, 14.858649005322125, 8.566476931245386, 3.801401761914842, 2.54623107203827, 3.202273646308154, 1.9251489292950303, 1.925161946808054, 1.9251710160231692, 1.9252544477944578, 1.9253936890970786, 1.925416758636639, 1.9254985949437078, 1.9267564369858032, 1.9268327309671789, 1.9270288940603317, 1.9270178079108797, 3.236414710448501, 3.266323192824947, 1.3046584197960627, 1.3046592738997198, 1.304659876235158, 1.3046604492896543, 1.3046620263740267, 1.3046622877337333, 1.3046630456253183, 1.304662907736616, 1.3046631478319883, 1.3046636595973977, 1.3046643865625223, 1.3046644151039926, 1.3046650104091249, 1.3046658664599653, 10.456542783357362, 5.917275116951183, 7.96672340489963, 6.671045732242273, 3.972113757396486, 2.640423092966154, 3.9635984607316295, 2.6311322573246363, 1.96611854598022, 6.652155982895158, 1.9664283126124849, 2.6441658090324247, 2.645553010112784, 2.6453516653815967, 2.645996306408766, 6.0395040134263756, 34.407506061394486, 8.117461699298783, 25.57886661444937, 8.799192529842617, 9.503566855593116, 6.076602040765007, 18.582757264609043, 20.700091379859167, 10.932529748359727, 11.67687023589583, 10.940527609645915, 3.99595225736007, 6.821417086626317, 8.232248447001304, 23.12796792879027, 13.91568764159791, 16.796874521339653, 7.551513532602819, 9.736712160743144, 16.096089186974684, 13.278639483978383], \"Category\": [\"Default\", \"Default\", \"Default\", \"Default\", \"Default\", \"Default\", \"Default\", \"Default\", \"Default\", \"Default\", \"Default\", \"Default\", \"Default\", \"Default\", \"Default\", \"Default\", \"Default\", \"Default\", \"Default\", \"Default\", \"Default\", \"Default\", \"Default\", \"Default\", \"Default\", \"Default\", \"Default\", \"Default\", \"Default\", \"Default\", \"Topic1\", \"Topic1\", \"Topic1\", \"Topic1\", \"Topic1\", \"Topic1\", \"Topic1\", \"Topic1\", \"Topic1\", \"Topic1\", \"Topic1\", \"Topic1\", \"Topic1\", \"Topic1\", \"Topic1\", \"Topic1\", \"Topic1\", \"Topic1\", \"Topic1\", \"Topic1\", \"Topic1\", \"Topic1\", \"Topic1\", \"Topic1\", \"Topic1\", \"Topic1\", \"Topic1\", \"Topic1\", \"Topic1\", \"Topic1\", \"Topic1\", \"Topic1\", \"Topic1\", \"Topic1\", \"Topic1\", \"Topic1\", \"Topic1\", \"Topic1\", \"Topic1\", \"Topic1\", \"Topic1\", \"Topic1\", \"Topic1\", \"Topic1\", \"Topic1\", \"Topic1\", \"Topic1\", \"Topic1\", \"Topic1\", \"Topic1\", \"Topic1\", \"Topic1\", \"Topic1\", \"Topic1\", \"Topic1\", \"Topic1\", \"Topic1\", \"Topic1\", \"Topic1\", \"Topic1\", \"Topic1\", \"Topic1\", \"Topic1\", \"Topic1\", \"Topic2\", \"Topic2\", \"Topic2\", \"Topic2\", \"Topic2\", \"Topic2\", \"Topic2\", \"Topic2\", \"Topic2\", \"Topic2\", \"Topic2\", \"Topic2\", \"Topic2\", \"Topic2\", \"Topic2\", \"Topic2\", \"Topic2\", \"Topic2\", \"Topic2\", \"Topic2\", \"Topic2\", \"Topic2\", \"Topic2\", \"Topic2\", \"Topic2\", \"Topic2\", \"Topic2\", \"Topic2\", \"Topic2\", \"Topic2\", \"Topic2\", \"Topic2\", \"Topic2\", \"Topic2\", \"Topic2\", \"Topic2\", \"Topic2\", \"Topic2\", \"Topic2\", \"Topic2\", \"Topic2\", \"Topic2\", \"Topic2\", \"Topic2\", \"Topic2\", \"Topic2\", \"Topic2\", \"Topic2\", \"Topic2\", \"Topic2\", \"Topic2\", \"Topic2\", \"Topic2\", \"Topic2\", \"Topic2\", \"Topic2\", \"Topic3\", \"Topic3\", \"Topic3\", \"Topic3\", \"Topic3\", \"Topic3\", \"Topic3\", \"Topic3\", \"Topic3\", \"Topic3\", \"Topic3\", \"Topic3\", \"Topic3\", \"Topic3\", \"Topic3\", \"Topic3\", \"Topic3\", \"Topic3\", \"Topic3\", \"Topic3\", \"Topic3\", \"Topic3\", \"Topic3\", \"Topic3\", \"Topic3\", \"Topic3\", \"Topic3\", \"Topic3\", \"Topic3\", \"Topic3\", \"Topic3\", \"Topic3\", \"Topic3\", \"Topic3\", \"Topic3\", \"Topic3\", \"Topic3\", \"Topic3\", \"Topic3\", \"Topic3\", \"Topic3\", \"Topic3\", \"Topic3\", \"Topic3\", \"Topic3\", \"Topic3\", \"Topic3\", \"Topic3\", \"Topic3\", \"Topic3\", \"Topic3\", \"Topic3\", \"Topic3\", \"Topic3\", \"Topic3\", \"Topic3\", \"Topic3\", \"Topic3\", \"Topic3\", \"Topic3\", \"Topic3\", \"Topic3\", \"Topic3\", \"Topic3\", \"Topic3\", \"Topic3\", \"Topic3\"], \"logprob\": [30.0, 29.0, 28.0, 27.0, 26.0, 25.0, 24.0, 23.0, 22.0, 21.0, 20.0, 19.0, 18.0, 17.0, 16.0, 15.0, 14.0, 13.0, 12.0, 11.0, 10.0, 9.0, 8.0, 7.0, 6.0, 5.0, 4.0, 3.0, 2.0, 1.0, -4.9671, -5.3187, -5.6278, -5.6287, -5.8345, -5.8462, -5.6853, -5.8692, -6.0967, -6.0968, -6.0968, -6.0969, -6.0972, -6.0973, -6.0973, -6.0974, -6.0976, -6.1, -6.1034, -5.4519, -6.4534, -6.4535, -6.4535, -6.4535, -6.4535, -6.4535, -6.4536, -6.4536, -6.4536, -6.4536, -4.8777, -5.274, -5.6393, -4.7074, -4.1337, -5.4547, -5.8336, -5.8361, -5.8559, -5.1793, -4.054, -4.8028, -5.1716, -4.711, -5.306, -5.2205, -4.4284, -4.8626, -4.945, -4.7446, -5.4503, -5.4575, -5.735, -5.4497, -4.9645, -5.4599, -4.9661, -5.312, -5.2987, -5.4571, -5.4684, -5.349, -5.4558, -5.458, -4.4011, -4.0805, -5.5124, -5.5142, -5.3809, -5.7401, -5.9821, -5.9821, -5.9826, -5.9828, -5.9827, -5.9838, -5.9893, -5.9897, -5.1726, -5.5868, -6.0206, -5.343, -6.3388, -6.3388, -6.3388, -6.3388, -6.3388, -6.3389, -6.3389, -6.3391, -6.3393, -6.3393, -6.3398, -6.34, -5.2341, -5.0657, -4.4741, -5.4231, -4.5506, -5.382, -4.0228, -4.3004, -5.3438, -5.0765, -4.8954, -5.5329, -4.7553, -5.1582, -5.0076, -5.2704, -5.0779, -5.5171, -5.0732, -5.0237, -5.3958, -5.0279, -5.3747, -5.0386, -5.2978, -5.5107, -5.1945, -5.6348, -5.4563, -5.9896, -5.9897, -5.9898, -5.9902, -5.9907, -5.9908, -5.9911, -5.9976, -5.9978, -5.9985, -5.9987, -5.5551, -5.6284, -6.5493, -6.5493, -6.5494, -6.5494, -6.5494, -6.5494, -6.5494, -6.5494, -6.5494, -6.5494, -6.5494, -6.5494, -6.5494, -6.5494, -4.4819, -5.1415, -4.9496, -5.1615, -5.6162, -5.9608, -5.6275, -5.9689, -6.2091, -5.2113, -6.2109, -5.9762, -5.982, -5.9821, -5.9838, -5.3622, -4.0803, -5.1568, -4.439, -5.1742, -5.1394, -5.4268, -4.7607, -4.7007, -5.1534, -5.1519, -5.203, -5.7414, -5.5773, -5.5403, -5.2746, -5.4181, -5.3821, -5.6328, -5.6217, -5.6212, -5.6224], \"loglift\": [30.0, 29.0, 28.0, 27.0, 26.0, 25.0, 24.0, 23.0, 22.0, 21.0, 20.0, 19.0, 18.0, 17.0, 16.0, 15.0, 14.0, 13.0, 12.0, 11.0, 10.0, 9.0, 8.0, 7.0, 6.0, 5.0, 4.0, 3.0, 2.0, 1.0, 0.8226, 0.7926, 0.7721, 0.7713, 0.7495, 0.738, 0.7154, 0.7154, 0.713, 0.713, 0.7129, 0.7128, 0.7125, 0.7125, 0.7124, 0.7123, 0.7123, 0.7098, 0.7065, 0.6602, 0.6485, 0.6484, 0.6484, 0.6484, 0.6484, 0.6484, 0.6483, 0.6483, 0.6483, 0.6483, 0.6207, 0.6268, 0.6257, 0.5507, 0.482, 0.5686, 0.5692, 0.5667, 0.5685, 0.4566, 0.2652, 0.3561, 0.3903, 0.1955, 0.4123, 0.3611, 0.0083, 0.1737, 0.2053, 0.0828, 0.3566, 0.3606, 0.5134, 0.3464, -0.0292, 0.3036, -0.2497, 0.0879, -0.0274, 0.2525, 0.2639, -0.1246, 0.1237, -0.3503, 0.9679, 0.9074, 0.9021, 0.9003, 0.883, 0.8579, 0.8409, 0.8409, 0.8404, 0.8403, 0.8403, 0.8392, 0.8336, 0.8334, 0.8328, 0.8325, 0.8019, 0.7803, 0.775, 0.775, 0.775, 0.775, 0.7749, 0.7748, 0.7748, 0.7747, 0.7745, 0.7744, 0.7739, 0.7738, 0.7716, 0.6847, 0.6336, 0.6991, 0.5283, 0.6419, 0.4138, 0.416, 0.5527, 0.4819, 0.2549, 0.4844, 0.1511, 0.3068, 0.2169, 0.3636, 0.1934, 0.4062, -0.0369, -0.0885, 0.2488, -0.2006, 0.091, -0.7194, -0.1389, 0.1989, 1.3276, 1.2881, 1.2374, 1.2128, 1.2128, 1.2127, 1.2122, 1.2117, 1.2116, 1.2112, 1.204, 1.2038, 1.203, 1.2028, 1.1279, 1.0454, 1.0422, 1.0422, 1.0422, 1.0422, 1.0422, 1.0422, 1.0422, 1.0422, 1.0422, 1.0421, 1.0421, 1.0421, 1.0421, 1.0421, 1.0283, 0.9381, 0.8326, 0.7982, 0.862, 0.9257, 0.8528, 0.9212, 0.9724, 0.7513, 0.9703, 0.9089, 0.9026, 0.9026, 0.9006, 0.697, 0.2389, 0.6067, 0.1767, 0.5086, 0.4665, 0.6262, 0.1745, 0.1267, 0.3124, 0.2479, 0.262, 0.7308, 0.3602, 0.2091, -0.5582, -0.1936, -0.3458, 0.2029, -0.0401, -0.5423, -0.3511]}, \"token.table\": {\"Topic\": [1, 2, 3, 1, 2, 3, 1, 2, 3, 2, 1, 2, 3, 1, 2, 3, 1, 2, 3, 2, 2, 3, 1, 1, 2, 3, 3, 1, 3, 1, 1, 2, 3, 1, 2, 3, 1, 2, 1, 2, 3, 1, 2, 3, 1, 2, 2, 1, 1, 1, 3, 2, 2, 1, 3, 3, 1, 1, 1, 2, 1, 2, 1, 2, 3, 2, 2, 2, 1, 2, 3, 2, 1, 3, 1, 2, 2, 1, 1, 2, 3, 2, 2, 3, 1, 2, 3, 1, 2, 3, 1, 1, 2, 3, 1, 2, 3, 2, 3, 1, 2, 3, 1, 2, 3, 3, 1, 3, 1, 1, 1, 3, 1, 2, 3, 1, 2, 3, 2, 1, 3, 2, 1, 3, 3, 3, 1, 2, 3, 1, 2, 3, 1, 2, 1, 2, 3, 1, 2, 3, 1, 2, 3, 1, 1, 1, 2, 3, 3, 1, 1, 1, 2, 3, 3, 1, 2, 3, 1, 3, 3, 3, 2, 1, 2, 3, 1, 2, 3, 1, 2, 3, 3, 1, 2, 3, 3, 1, 2, 1, 2, 3, 1, 3, 3, 1, 2, 1, 3, 3, 3, 1, 2, 3, 1, 1, 2, 3, 2, 3, 3, 1, 1, 2, 3, 2, 3, 3, 1, 2, 1, 2, 3, 1, 2, 3, 3, 2, 1, 1, 2, 2, 3, 1, 1, 1, 1, 2, 3, 1, 2, 3, 1, 3, 1, 2, 3, 3, 3, 2, 3, 2, 1, 2, 1, 2, 3, 2, 1, 1, 3, 1, 1, 3, 2, 1, 2, 3, 2, 2, 2, 2, 1, 3, 1, 2, 3, 1, 2, 3, 2, 1, 1, 2, 1, 2, 3], \"Freq\": [0.522851821580088, 0.41828145726407046, 0.05228518215800881, 0.24294699229206623, 0.48589398458413247, 0.24294699229206623, 0.37654460052423694, 0.45185352062908435, 0.1506178402096948, 0.9506648207845101, 0.16899670544898376, 0.33799341089796753, 0.5069901163469512, 0.5522050905432568, 0.17438055490839688, 0.29063425818066146, 0.2814467322972412, 0.5628934645944824, 0.5194118632711561, 0.950664493624605, 0.5045919812045808, 0.5045919812045808, 0.9394797617995162, 0.7561006479786322, 0.09451258099732902, 0.09451258099732902, 0.7664814323921508, 0.44970460710537496, 0.44970460710537496, 0.8852244472518644, 0.7014558485791037, 0.5085362093223001, 0.5085362093223001, 0.27441041269063166, 0.36588055025417554, 0.27441041269063166, 0.6363292308314441, 0.38179753849886644, 0.05671925995238688, 0.9075081592381901, 0.05671925995238688, 0.7431772339723612, 0.14863544679447224, 0.07431772339723612, 0.17654098860564713, 0.7061639544225885, 0.9506640959559551, 0.9312062256791617, 0.7014809175766552, 0.3089838878718421, 0.6179677757436842, 0.9506660282334183, 0.7108312314627117, 0.37819110911426856, 0.37819110911426856, 0.5189365639978807, 0.7014702190394125, 0.7015209484356937, 0.43290533293831596, 0.541131666172895, 0.15695982638301276, 0.7847991319150638, 0.2648475688171944, 0.39727135322579166, 0.2648475688171944, 0.7108281042506703, 0.9494696877957761, 0.7108359153873838, 0.3593067140321253, 0.43116805683855036, 0.21558402841927518, 0.944886217258751, 0.4936969674621507, 0.4936969674621507, 0.6001730589225307, 0.20005768630751022, 0.7108252898380268, 0.8721441833945667, 0.15985109447899445, 0.6394043779159778, 0.15985109447899445, 0.9506668448823484, 0.500506480355524, 0.500506480355524, 0.2510442371791113, 0.2510442371791113, 0.5020884743582226, 0.3766932915456812, 0.3228799641820125, 0.26906663681834375, 0.9394803283769527, 0.6432734180517847, 0.2573093672207139, 0.12865468361035695, 0.7066865590408443, 0.14133731180816886, 0.14133731180816886, 0.9134068345626222, 0.766481071687539, 0.24850756935646764, 0.6212689233911691, 0.12425378467823382, 0.2890821077573655, 0.578164215514731, 0.14454105387868274, 0.5194368201896024, 0.37872718302756425, 0.37872718302756425, 0.7014600715435564, 0.7014531637195311, 0.9394908850102629, 0.7664841500477303, 0.4347806893624076, 0.28985379290827173, 0.2415448274235598, 0.5970394898780115, 0.2388157959512046, 0.2388157959512046, 0.9506822313715931, 0.8136632834810915, 0.20341582087027288, 0.7107625434922529, 0.3779294769149671, 0.3779294769149671, 0.5189335785686937, 0.7664836482639092, 0.42491948342922997, 0.555663939868993, 0.03268611410994077, 0.5887646123342849, 0.23550584493371393, 0.11775292246685697, 0.8728763457646312, 0.17457526915292626, 0.6505795114241193, 0.26023180456964773, 0.13011590228482386, 0.31567095234716175, 0.31567095234716175, 0.31567095234716175, 0.7004536551157095, 0.2334845517052365, 0.7664806446006855, 0.8400280487484441, 0.9394771693270837, 0.18280654017422923, 0.45701635043557304, 0.27420981026134383, 0.519006959470388, 0.7014781160521483, 0.9394786654312395, 0.6506612577143698, 0.21688708590478994, 0.10844354295239497, 0.5193460034850013, 0.19126780633300722, 0.19126780633300722, 0.6694373221655252, 0.6159560938158685, 0.36957365628952105, 0.7664815134009151, 0.766482031196419, 0.9449246081149494, 0.6057078269213, 0.3365043482896111, 0.06730086965792222, 0.3311530211013711, 0.16557651055068556, 0.49672953165205663, 0.5836705147436969, 0.46693641179495754, 0.5189864091098594, 0.519434373194389, 0.29319421090979564, 0.29319421090979564, 0.29319421090979564, 0.7664813723463719, 0.15690876627121111, 0.7845438313560555, 0.6042390230537555, 0.30211951152687777, 0.10070650384229259, 0.7157247839766757, 0.2385749279922252, 0.6245562437506755, 0.9394884179414047, 0.9506773865975259, 0.7987099651269933, 0.15974199302539868, 0.7664818776490063, 0.7664797751729069, 0.3175701125537718, 0.6351402251075436, 0.1587850562768859, 0.939483307474728, 0.7015271927736971, 0.7104850288108371, 0.7891825668247283, 0.7295156767232319, 0.24317189224107733, 0.7854746656590718, 0.9394910404786453, 0.25175512613099177, 0.25175512613099177, 0.5035102522619835, 0.4509816077244685, 0.4509816077244685, 0.7664832943936993, 0.4013792369657467, 0.60206885544862, 0.512434143454067, 0.3074604860724402, 0.2049736573816268, 0.6646111517074328, 0.07818954725969798, 0.27366341540894296, 0.7664829577262559, 0.7108208041774609, 0.7015326917394361, 0.700473403520516, 0.23349113450683867, 0.5086163304061831, 0.5086163304061831, 0.9312296063860055, 0.8394969462453407, 0.7014804155217466, 0.30266385795555456, 0.5620900219174585, 0.12971308198095197, 0.6162244401340151, 0.20540814671133836, 0.20540814671133836, 0.30615463962558137, 0.6123092792511627, 0.8396775656910982, 0.38006451299290095, 0.38006451299290095, 0.519374300260096, 0.7664802780956116, 0.9506570671485816, 0.7664806278327839, 0.7108589932594434, 0.5337958895538079, 0.4670714033595819, 0.4375531908039271, 0.4375531908039271, 0.10938829770098177, 0.9506939610238947, 0.9319562280058153, 0.9394791507591083, 0.5193680773341176, 0.9394866493752482, 0.37802157387484747, 0.37802157387484747, 0.8514213934715107, 0.4762790833399612, 0.3572093125049709, 0.17860465625248545, 0.9506771044655404, 0.9506655085477257, 0.7108302004851585, 0.9506743239513323, 0.3779928038400442, 0.3779928038400442, 0.42819693111168744, 0.25691815866701245, 0.25691815866701245, 0.22729358327107455, 0.34094037490661183, 0.34094037490661183, 0.8128034187236449, 0.701456825376079, 0.319717077430595, 0.703377570347309, 0.17635217683557572, 0.7054087073423029, 0.5194403325285538], \"Term\": [\"\\uac00\\uaca9\", \"\\uac00\\uaca9\", \"\\uac00\\uaca9\", \"\\uac00\\uc871\", \"\\uac00\\uc871\", \"\\uac00\\uc871\", \"\\uac1c\\uc120\", \"\\uac1c\\uc120\", \"\\uac1c\\uc120\", \"\\uac70\\ub098\", \"\\uacbd\\uc8fc\", \"\\uacbd\\uc8fc\", \"\\uacbd\\uc8fc\", \"\\uace0\\uac1d\", \"\\uace0\\uac1d\", \"\\uace0\\uac1d\", \"\\uacf0\\ud321\\uc774\", \"\\uacf0\\ud321\\uc774\", \"\\uacf5\\uc0ac\", \"\\uacf5\\uc720\\uae30\", \"\\uacf5\\uc9c0\", \"\\uacf5\\uc9c0\", \"\\uad00\\uacc4\", \"\\uad00\\ub9ac\", \"\\uad00\\ub9ac\", \"\\uad00\\ub9ac\", \"\\uad11\\uace0\", \"\\uad50\\uc721\", \"\\uad50\\uc721\", \"\\uad50\\uccb4\", \"\\uadf8\\ub987\", \"\\uae30\\uacc4\", \"\\uae30\\uacc4\", \"\\uae30\\ubd84\", \"\\uae30\\ubd84\", \"\\uae30\\ubd84\", \"\\ub0b4\\ubd80\", \"\\ub0b4\\ubd80\", \"\\ub0c4\\uc0c8\", \"\\ub0c4\\uc0c8\", \"\\ub0c4\\uc0c8\", \"\\ub0c9\\uc7a5\\uace0\", \"\\ub0c9\\uc7a5\\uace0\", \"\\ub0c9\\uc7a5\\uace0\", \"\\ub178\\ud6c4\", \"\\ub178\\ud6c4\", \"\\ub2c8\\uc694\", \"\\ub300\\uc751\", \"\\ub370\\ub9ac\", \"\\ub3c4\\ucc29\", \"\\ub3c4\\ucc29\", \"\\ub4e3\\uae30\", \"\\ub77d\\uc2a4\", \"\\ub9c8\\uac10\", \"\\ub9c8\\uac10\", \"\\ub9c8\\uc74c\", \"\\ub9e4\\ub144\", \"\\ub9e4\\uc7a5\", \"\\uba38\\ub9ac\\uce74\\ub77d\", \"\\uba38\\ub9ac\\uce74\\ub77d\", \"\\uba3c\\uc9c0\", \"\\uba3c\\uc9c0\", \"\\ubb38\\uc81c\", \"\\ubb38\\uc81c\", \"\\ubb38\\uc81c\", \"\\ubb3c\\ub54c\", \"\\ubb3c\\uc9c8\", \"\\ubbf8\\ud761\", \"\\ubc14\\ub2e5\", \"\\ubc14\\ub2e5\", \"\\ubc14\\ub2e5\", \"\\ubc14\\ud034\", \"\\ubca0\\ub780\\ub2e4\", \"\\ubca0\\ub780\\ub2e4\", \"\\ubcc0\\uae30\", \"\\ubcc0\\uae30\", \"\\ubcc0\\ud654\", \"\\ubcc4\\uad00\", \"\\ubd80\\uc871\", \"\\ubd80\\uc871\", \"\\ubd80\\uc871\", \"\\ubd80\\ud53c\", \"\\ubd88\\ub7c9\", \"\\ubd88\\ub7c9\", \"\\ubd88\\ub9cc\", \"\\ubd88\\ub9cc\", \"\\ubd88\\ub9cc\", \"\\ubd88\\ub9cc\\uc871\", \"\\ubd88\\ub9cc\\uc871\", \"\\ubd88\\ub9cc\\uc871\", \"\\ube44\\ub2d0\", \"\\ube44\\uce58\", \"\\ube44\\uce58\", \"\\ube44\\uce58\", \"\\ubf40\\ub85c\\ub85c\", \"\\ubf40\\ub85c\\ub85c\", \"\\ubf40\\ub85c\\ub85c\", \"\\uc0ac\\uc6b0\\ub098\", \"\\uc0ad\\uc81c\", \"\\uc0c1\\ud0dc\", \"\\uc0c1\\ud0dc\", \"\\uc0c1\\ud0dc\", \"\\uc0e4\\uc6cc\", \"\\uc0e4\\uc6cc\", \"\\uc0e4\\uc6cc\", \"\\uc11c\\ub85c\", \"\\uc124\\uc815\", \"\\uc124\\uc815\", \"\\uc131\\ub2a5\", \"\\uc138\\ubc88\", \"\\uc13c\\ud130\", \"\\uc18c\\uc591\\uc99d\", \"\\uc18c\\uc74c\", \"\\uc18c\\uc74c\", \"\\uc18c\\uc74c\", \"\\uc190\\ub2d8\", \"\\uc190\\ub2d8\", \"\\uc190\\ub2d8\", \"\\uc1fc\\ud30c\", \"\\uc218\\uac74\", \"\\uc218\\uac74\", \"\\uc218\\uc555\", \"\\uc218\\uc9c8\", \"\\uc218\\uc9c8\", \"\\uc288\\ud37c\\ub9c8\\ucf13\", \"\\uc2a4\\ud14c\\ub85c\\uc774\\ub4dc\", \"\\uc2dc\\uc124\", \"\\uc2dc\\uc124\", \"\\uc2dc\\uc124\", \"\\uc2dd\\ub2f9\", \"\\uc2dd\\ub2f9\", \"\\uc2dd\\ub2f9\", \"\\uc2dd\\uc0ac\", \"\\uc2dd\\uc0ac\", \"\\uc2e0\\uacbd\", \"\\uc2e0\\uacbd\", \"\\uc2e0\\uacbd\", \"\\uc2e4\\ub0b4\", \"\\uc2e4\\ub0b4\", \"\\uc2e4\\ub0b4\", \"\\uc2e4\\ub9dd\", \"\\uc2e4\\ub9dd\", \"\\uc2e4\\uc678\", \"\\uc544\\uc26c\\uc6c0\", \"\\uc544\\uc608\", \"\\uc548\\ub0b4\", \"\\uc548\\ub0b4\", \"\\uc548\\ub0b4\", \"\\uc54c\\ubc14\\uc0dd\", \"\\uc5b4\\ub824\\uc6c0\", \"\\uc5c5\\ubb34\", \"\\uc5d0\\uc5b4\\ucee8\", \"\\uc5d0\\uc5b4\\ucee8\", \"\\uc5d0\\uc5b4\\ucee8\", \"\\uc601\\uc5c5\", \"\\uc608\\uc57d\", \"\\uc608\\uc57d\", \"\\uc608\\uc57d\", \"\\uc628\\ub3c4\", \"\\uc628\\ub3c4\", \"\\uc628\\ubab8\", \"\\uc628\\ucc9c\", \"\\uc640\\uc774\\ud30c\\uc774\", \"\\uc694\\uad6c\", \"\\uc694\\uad6c\", \"\\uc694\\uad6c\", \"\\uc694\\uccad\", \"\\uc694\\uccad\", \"\\uc694\\uccad\", \"\\uc695\\uc2e4\", \"\\uc695\\uc2e4\", \"\\uc6b0\\uc655\\uc88c\\uc655\", \"\\uc720\\uc120\", \"\\uc74c\\uc2dd\", \"\\uc74c\\uc2dd\", \"\\uc74c\\uc2dd\", \"\\uc758\\uacac\", \"\\uc758\\uc790\", \"\\uc758\\uc790\", \"\\uc774\\ubd88\", \"\\uc774\\ubd88\", \"\\uc774\\ubd88\", \"\\uc774\\uc57c\\uae30\", \"\\uc774\\uc57c\\uae30\", \"\\uc774\\uc720\", \"\\uc77c\\ubd80\\ub7ec\", \"\\uc785\\uc695\", \"\\uc785\\uc7a5\", \"\\uc785\\uc7a5\", \"\\uc790\\ub791\", \"\\uc790\\ubd80\\uc2ec\", \"\\uc790\\uc8fc\", \"\\uc790\\uc8fc\", \"\\uc790\\uc8fc\", \"\\uc791\\ub144\", \"\\uc815\\ub9ac\", \"\\uc81c\\uac70\", \"\\uc81c\\uc8fc\", \"\\uc870\\uc2dd\", \"\\uc870\\uc2dd\", \"\\uc870\\uce58\", \"\\uc885\\ub958\", \"\\uc8fc\\ub9d0\", \"\\uc8fc\\ub9d0\", \"\\uc8fc\\ub9d0\", \"\\uc8fc\\ubcc0\", \"\\uc8fc\\ubcc0\", \"\\uc8fc\\uc0ac\", \"\\uc8fc\\ucc28\", \"\\uc8fc\\ucc28\", \"\\uc8fc\\ucc28\\uc7a5\", \"\\uc8fc\\ucc28\\uc7a5\", \"\\uc8fc\\ucc28\\uc7a5\", \"\\uc9c1\\uc6d0\", \"\\uc9c1\\uc6d0\", \"\\uc9c1\\uc6d0\", \"\\uc9c1\\ud6c4\", \"\\uc9c4\\ub3d9\", \"\\uc9c4\\uc5f4\", \"\\uc9c4\\uc785\", \"\\uc9c4\\uc785\", \"\\uc9c8\\ubb38\", \"\\uc9c8\\ubb38\", \"\\ucc28\\ub7c9\", \"\\ucc3d\\ubb38\", \"\\ucc98\\ub9ac\", \"\\uccad\\uc18c\", \"\\uccad\\uc18c\", \"\\uccad\\uc18c\", \"\\uccb4\\ud06c\", \"\\uccb4\\ud06c\", \"\\uccb4\\ud06c\", \"\\uccb4\\ud06c\\uc544\\uc6c3\", \"\\uccb4\\ud06c\\uc544\\uc6c3\", \"\\ucd5c\\uc18c\\ud55c\", \"\\ucd5c\\uc545\", \"\\ucd5c\\uc545\", \"\\ucd94\\uac00\", \"\\ucd9c\\uadfc\", \"\\ucde8\\uc0ac\", \"\\ucde8\\ud588\", \"\\uce35\\uac04\\uc18c\\uc74c\", \"\\uce68\\uad6c\", \"\\uce68\\uad6c\", \"\\uce68\\ub300\", \"\\uce68\\ub300\", \"\\uce68\\ub300\", \"\\uce68\\uc2e4\", \"\\ucee4\\ubc84\", \"\\ucef4\\ud4e8\\ud130\", \"\\ucfe0\\ud3f0\", \"\\ud0a4\\uc988\", \"\\ud14c\\uc774\\ube14\", \"\\ud14c\\uc774\\ube14\", \"\\ud1b5\\ub85c\", \"\\ud22c\\uc219\", \"\\ud22c\\uc219\", \"\\ud22c\\uc219\", \"\\ud2b8\\ub9ac\", \"\\ud328\\ub4dc\", \"\\ud328\\ubc00\\ub9ac\", \"\\ud3ec\\uae30\", \"\\ud3ec\\uc7a5\", \"\\ud3ec\\uc7a5\", \"\\ud504\\ub860\\ud2b8\", \"\\ud504\\ub860\\ud2b8\", \"\\ud504\\ub860\\ud2b8\", \"\\ud544\\uc694\", \"\\ud544\\uc694\", \"\\ud544\\uc694\", \"\\ud558\\uc218\", \"\\ud56b\\ub3c4\\uadf8\", \"\\ud654\\uc7a5\\uc2e4\", \"\\ud654\\uc7a5\\uc2e4\", \"\\ud658\\uae30\", \"\\ud658\\uae30\", \"\\ud65c\\uc6a9\"]}, \"R\": 30, \"lambda.step\": 0.01, \"plot.opts\": {\"xlab\": \"PC1\", \"ylab\": \"PC2\"}, \"topic.order\": [1, 3, 2]};\n",
       "\n",
       "function LDAvis_load_lib(url, callback){\n",
       "  var s = document.createElement('script');\n",
       "  s.src = url;\n",
       "  s.async = true;\n",
       "  s.onreadystatechange = s.onload = callback;\n",
       "  s.onerror = function(){console.warn(\"failed to load library \" + url);};\n",
       "  document.getElementsByTagName(\"head\")[0].appendChild(s);\n",
       "}\n",
       "\n",
       "if(typeof(LDAvis) !== \"undefined\"){\n",
       "   // already loaded: just create the visualization\n",
       "   !function(LDAvis){\n",
       "       new LDAvis(\"#\" + \"ldavis_el1508420069944871042207310639\", ldavis_el1508420069944871042207310639_data);\n",
       "   }(LDAvis);\n",
       "}else if(typeof define === \"function\" && define.amd){\n",
       "   // require.js is available: use it to load d3/LDAvis\n",
       "   require.config({paths: {d3: \"https://d3js.org/d3.v5\"}});\n",
       "   require([\"d3\"], function(d3){\n",
       "      window.d3 = d3;\n",
       "      LDAvis_load_lib(\"https://cdn.jsdelivr.net/gh/bmabey/pyLDAvis@3.4.0/pyLDAvis/js/ldavis.v3.0.0.js\", function(){\n",
       "        new LDAvis(\"#\" + \"ldavis_el1508420069944871042207310639\", ldavis_el1508420069944871042207310639_data);\n",
       "      });\n",
       "    });\n",
       "}else{\n",
       "    // require.js not available: dynamically load d3 & LDAvis\n",
       "    LDAvis_load_lib(\"https://d3js.org/d3.v5.js\", function(){\n",
       "         LDAvis_load_lib(\"https://cdn.jsdelivr.net/gh/bmabey/pyLDAvis@3.4.0/pyLDAvis/js/ldavis.v3.0.0.js\", function(){\n",
       "                 new LDAvis(\"#\" + \"ldavis_el1508420069944871042207310639\", ldavis_el1508420069944871042207310639_data);\n",
       "            })\n",
       "         });\n",
       "}\n",
       "</script>"
      ],
      "text/plain": [
       "<IPython.core.display.HTML object>"
      ]
     },
     "execution_count": 29,
     "metadata": {},
     "output_type": "execute_result"
    }
   ],
   "source": [
    "pyLDAvis.display(vis)"
   ]
  },
  {
   "cell_type": "code",
   "execution_count": 153,
   "id": "467e382a-c39f-4b02-91c6-fa59a43f5ff6",
   "metadata": {},
   "outputs": [],
   "source": [
    "pyLDAvis.save_html(vis, 'result_19.html')"
   ]
  },
  {
   "cell_type": "code",
   "execution_count": 73,
   "id": "510d4240-e96e-455a-88be-54680ce46ece",
   "metadata": {},
   "outputs": [
    {
     "data": {
      "text/html": [
       "<div>\n",
       "<style scoped>\n",
       "    .dataframe tbody tr th:only-of-type {\n",
       "        vertical-align: middle;\n",
       "    }\n",
       "\n",
       "    .dataframe tbody tr th {\n",
       "        vertical-align: top;\n",
       "    }\n",
       "\n",
       "    .dataframe thead th {\n",
       "        text-align: right;\n",
       "    }\n",
       "</style>\n",
       "<table border=\"1\" class=\"dataframe\">\n",
       "  <thead>\n",
       "    <tr style=\"text-align: right;\">\n",
       "      <th></th>\n",
       "      <th>문서 번호</th>\n",
       "      <th>Topic</th>\n",
       "      <th>주제 확률</th>\n",
       "    </tr>\n",
       "  </thead>\n",
       "  <tbody>\n",
       "    <tr>\n",
       "      <th>0</th>\n",
       "      <td>0</td>\n",
       "      <td>2</td>\n",
       "      <td>0.954135</td>\n",
       "    </tr>\n",
       "    <tr>\n",
       "      <th>1</th>\n",
       "      <td>1</td>\n",
       "      <td>2</td>\n",
       "      <td>0.919596</td>\n",
       "    </tr>\n",
       "    <tr>\n",
       "      <th>2</th>\n",
       "      <td>2</td>\n",
       "      <td>2</td>\n",
       "      <td>0.950774</td>\n",
       "    </tr>\n",
       "    <tr>\n",
       "      <th>3</th>\n",
       "      <td>3</td>\n",
       "      <td>0</td>\n",
       "      <td>0.938675</td>\n",
       "    </tr>\n",
       "    <tr>\n",
       "      <th>4</th>\n",
       "      <td>4</td>\n",
       "      <td>0</td>\n",
       "      <td>0.937832</td>\n",
       "    </tr>\n",
       "    <tr>\n",
       "      <th>...</th>\n",
       "      <td>...</td>\n",
       "      <td>...</td>\n",
       "      <td>...</td>\n",
       "    </tr>\n",
       "    <tr>\n",
       "      <th>91</th>\n",
       "      <td>91</td>\n",
       "      <td>2</td>\n",
       "      <td>0.913287</td>\n",
       "    </tr>\n",
       "    <tr>\n",
       "      <th>92</th>\n",
       "      <td>92</td>\n",
       "      <td>1</td>\n",
       "      <td>0.947548</td>\n",
       "    </tr>\n",
       "    <tr>\n",
       "      <th>93</th>\n",
       "      <td>93</td>\n",
       "      <td>2</td>\n",
       "      <td>0.852044</td>\n",
       "    </tr>\n",
       "    <tr>\n",
       "      <th>94</th>\n",
       "      <td>94</td>\n",
       "      <td>2</td>\n",
       "      <td>0.942360</td>\n",
       "    </tr>\n",
       "    <tr>\n",
       "      <th>95</th>\n",
       "      <td>95</td>\n",
       "      <td>0</td>\n",
       "      <td>0.953808</td>\n",
       "    </tr>\n",
       "  </tbody>\n",
       "</table>\n",
       "<p>96 rows × 3 columns</p>\n",
       "</div>"
      ],
      "text/plain": [
       "    문서 번호  Topic     주제 확률\n",
       "0       0      2  0.954135\n",
       "1       1      2  0.919596\n",
       "2       2      2  0.950774\n",
       "3       3      0  0.938675\n",
       "4       4      0  0.937832\n",
       "..    ...    ...       ...\n",
       "91     91      2  0.913287\n",
       "92     92      1  0.947548\n",
       "93     93      2  0.852044\n",
       "94     94      2  0.942360\n",
       "95     95      0  0.953808\n",
       "\n",
       "[96 rows x 3 columns]"
      ]
     },
     "execution_count": 73,
     "metadata": {},
     "output_type": "execute_result"
    }
   ],
   "source": [
    "#문서별 토픽화\n",
    "result_23 = []\n",
    "\n",
    "for i, doc in enumerate(corpus_23):\n",
    "    topic_probs = ldamodel.get_document_topics(doc)\n",
    "    topic_probs = sorted(topic_probs, key= lambda x: x[1], reverse=True)\n",
    "    top_topic = topic_probs[0]\n",
    "    result_23.append({\n",
    "    '문서 번호': i,\n",
    "    'Topic': top_topic[0],\n",
    "    '주제 확률': top_topic[1]\n",
    "    })\n",
    "\n",
    "topic_23 = pd.DataFrame(result_23)\n",
    "topic_22['Topic'] = topic_23['Topic'].replace({0:1, 1:2, 2:3})\n",
    "topic_23"
   ]
  }
 ],
 "metadata": {
  "kernelspec": {
   "display_name": "Python 3 (ipykernel)",
   "language": "python",
   "name": "python3"
  },
  "language_info": {
   "codemirror_mode": {
    "name": "ipython",
    "version": 3
   },
   "file_extension": ".py",
   "mimetype": "text/x-python",
   "name": "python",
   "nbconvert_exporter": "python",
   "pygments_lexer": "ipython3",
   "version": "3.11.6"
  }
 },
 "nbformat": 4,
 "nbformat_minor": 5
}
